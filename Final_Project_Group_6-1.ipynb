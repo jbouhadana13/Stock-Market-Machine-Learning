{
  "nbformat": 4,
  "nbformat_minor": 0,
  "metadata": {
    "colab": {
      "provenance": []
    },
    "kernelspec": {
      "name": "python3",
      "display_name": "Python 3"
    },
    "language_info": {
      "name": "python"
    }
  },
  "cells": [
    {
      "cell_type": "code",
      "execution_count": null,
      "metadata": {
        "id": "0KXWWoRJQcYk",
        "colab": {
          "base_uri": "https://localhost:8080/"
        },
        "outputId": "d26cf4e8-5ac7-48a9-b304-795ddf0c7887"
      },
      "outputs": [
        {
          "output_type": "stream",
          "name": "stdout",
          "text": [
            "Looking in indexes: https://pypi.org/simple, https://us-python.pkg.dev/colab-wheels/public/simple/\n",
            "Requirement already satisfied: yfinance in /usr/local/lib/python3.10/dist-packages (0.2.18)\n",
            "Requirement already satisfied: cryptography>=3.3.2 in /usr/local/lib/python3.10/dist-packages (from yfinance) (40.0.2)\n",
            "Requirement already satisfied: html5lib>=1.1 in /usr/local/lib/python3.10/dist-packages (from yfinance) (1.1)\n",
            "Requirement already satisfied: beautifulsoup4>=4.11.1 in /usr/local/lib/python3.10/dist-packages (from yfinance) (4.11.2)\n",
            "Requirement already satisfied: lxml>=4.9.1 in /usr/local/lib/python3.10/dist-packages (from yfinance) (4.9.2)\n",
            "Requirement already satisfied: appdirs>=1.4.4 in /usr/local/lib/python3.10/dist-packages (from yfinance) (1.4.4)\n",
            "Requirement already satisfied: pytz>=2022.5 in /usr/local/lib/python3.10/dist-packages (from yfinance) (2022.7.1)\n",
            "Requirement already satisfied: requests>=2.26 in /usr/local/lib/python3.10/dist-packages (from yfinance) (2.27.1)\n",
            "Requirement already satisfied: pandas>=1.3.0 in /usr/local/lib/python3.10/dist-packages (from yfinance) (1.5.3)\n",
            "Requirement already satisfied: frozendict>=2.3.4 in /usr/local/lib/python3.10/dist-packages (from yfinance) (2.3.7)\n",
            "Requirement already satisfied: multitasking>=0.0.7 in /usr/local/lib/python3.10/dist-packages (from yfinance) (0.0.11)\n",
            "Requirement already satisfied: numpy>=1.16.5 in /usr/local/lib/python3.10/dist-packages (from yfinance) (1.22.4)\n",
            "Requirement already satisfied: soupsieve>1.2 in /usr/local/lib/python3.10/dist-packages (from beautifulsoup4>=4.11.1->yfinance) (2.4.1)\n",
            "Requirement already satisfied: cffi>=1.12 in /usr/local/lib/python3.10/dist-packages (from cryptography>=3.3.2->yfinance) (1.15.1)\n",
            "Requirement already satisfied: six>=1.9 in /usr/local/lib/python3.10/dist-packages (from html5lib>=1.1->yfinance) (1.16.0)\n",
            "Requirement already satisfied: webencodings in /usr/local/lib/python3.10/dist-packages (from html5lib>=1.1->yfinance) (0.5.1)\n",
            "Requirement already satisfied: python-dateutil>=2.8.1 in /usr/local/lib/python3.10/dist-packages (from pandas>=1.3.0->yfinance) (2.8.2)\n",
            "Requirement already satisfied: idna<4,>=2.5 in /usr/local/lib/python3.10/dist-packages (from requests>=2.26->yfinance) (3.4)\n",
            "Requirement already satisfied: urllib3<1.27,>=1.21.1 in /usr/local/lib/python3.10/dist-packages (from requests>=2.26->yfinance) (1.26.15)\n",
            "Requirement already satisfied: charset-normalizer~=2.0.0 in /usr/local/lib/python3.10/dist-packages (from requests>=2.26->yfinance) (2.0.12)\n",
            "Requirement already satisfied: certifi>=2017.4.17 in /usr/local/lib/python3.10/dist-packages (from requests>=2.26->yfinance) (2022.12.7)\n",
            "Requirement already satisfied: pycparser in /usr/local/lib/python3.10/dist-packages (from cffi>=1.12->cryptography>=3.3.2->yfinance) (2.21)\n"
          ]
        }
      ],
      "source": [
        "\n",
        "# install a library\n",
        "!pip install yfinance"
      ]
    },
    {
      "cell_type": "code",
      "source": [
        "import yfinance as yf\n",
        "import yfinance as yf # for financial data\n",
        "import numpy as np # for scientific computing\n",
        "import pandas as pd # for dealing with data frames\n",
        "import seaborn as sns # for creating charts\n",
        "import scipy.stats as scs # for technical computing (pronounced [saɪpa]) \n",
        "import statsmodels.api as sm # for providinga complement to scipy for statistical computations\n",
        "import statsmodels.tsa.api as smt # for providinga complement to scipy for statistical computations\n",
        "import matplotlib.pyplot as plt # for creating charts"
      ],
      "metadata": {
        "id": "04tTMcawQtyL"
      },
      "execution_count": null,
      "outputs": []
    },
    {
      "cell_type": "code",
      "source": [
        "# load daily SPY data for all of 2022\n",
        "spy_weekly = yf.download('SPY', start='2022-01-01', end='2023-04-08',interval='1wk').reset_index()\n",
        "spy_daily = yf.download('SPY', start='2022-01-01', end='2023-04-08',interval='1d').reset_index()\n",
        "spy_hourly = yf.download('SPY', start='2022-01-01', end='2023-04-08',interval='1h').reset_index()\n",
        "spy_daily_test = yf.download('SPY', start='2023-04-09', end='2023-04-29',interval='1d').reset_index()\n"
      ],
      "metadata": {
        "colab": {
          "base_uri": "https://localhost:8080/"
        },
        "id": "ZibHs1twWwZN",
        "outputId": "2f4548c8-a599-45b0-c629-862b6b6eeb08"
      },
      "execution_count": null,
      "outputs": [
        {
          "output_type": "stream",
          "name": "stdout",
          "text": [
            "[*********************100%***********************]  1 of 1 completed\n",
            "[*********************100%***********************]  1 of 1 completed\n",
            "[*********************100%***********************]  1 of 1 completed\n",
            "[*********************100%***********************]  1 of 1 completed\n"
          ]
        }
      ]
    },
    {
      "cell_type": "code",
      "source": [
        "#breakout datetime column to a Date and Hour\n",
        "spy_hourly['Date'] = spy_hourly['Datetime'].dt.date\n",
        "spy_hourly['Start_Time'] = spy_hourly['Datetime'].dt.time\n"
      ],
      "metadata": {
        "id": "rNTR1PRqYLVF"
      },
      "execution_count": null,
      "outputs": []
    },
    {
      "cell_type": "code",
      "source": [
        "spy_weekly = spy_weekly[['Date', 'Open', 'High', 'Low', 'Adj Close', 'Volume' ]]\n",
        "spy_daily = spy_daily[['Date', 'Open', 'High', 'Low', 'Adj Close', 'Volume' ]]\n",
        "spy_hourly = spy_hourly[['Date', 'Open', 'High', 'Low', 'Adj Close', 'Volume', 'Start_Time']]\n",
        "spy_daily_test = spy_daily_test[['Date', 'Open', 'High', 'Low', 'Adj Close', 'Volume' ]]\n"
      ],
      "metadata": {
        "id": "8WMWflPyQ9T7"
      },
      "execution_count": null,
      "outputs": []
    },
    {
      "cell_type": "code",
      "source": [
        "#spy_hourly\n",
        "spy_hourly.tail(10)\n"
      ],
      "metadata": {
        "colab": {
          "base_uri": "https://localhost:8080/",
          "height": 363
        },
        "id": "nw68_tSDWGsj",
        "outputId": "a5acdd0d-3744-41b4-e0cd-47fd870d515d"
      },
      "execution_count": null,
      "outputs": [
        {
          "output_type": "execute_result",
          "data": {
            "text/plain": [
              "            Date        Open        High         Low   Adj Close    Volume  \\\n",
              "2203  2023-04-05  406.869995  407.682098  406.549988  407.089996   6702955   \n",
              "2204  2023-04-05  407.190186  407.769989  406.839996  407.209991   6493785   \n",
              "2205  2023-04-05  407.220001  407.859985  407.190002  407.649994   8770073   \n",
              "2206  2023-04-06  406.769989  407.260010  405.678009  406.839996  13020921   \n",
              "2207  2023-04-06  406.829987  407.350006  406.119995  407.160004   7550425   \n",
              "2208  2023-04-06  407.170013  408.635010  407.040009  408.464996   7950671   \n",
              "2209  2023-04-06  408.480011  409.200012  408.420013  408.999908   6151229   \n",
              "2210  2023-04-06  409.089996  409.379913  408.730011  409.279999   4751863   \n",
              "2211  2023-04-06  409.295013  409.480011  408.470001  408.888000   6507154   \n",
              "2212  2023-04-06  408.899994  409.260010  408.750000  409.200012   9993352   \n",
              "\n",
              "     Start_Time  \n",
              "2203   13:30:00  \n",
              "2204   14:30:00  \n",
              "2205   15:30:00  \n",
              "2206   09:30:00  \n",
              "2207   10:30:00  \n",
              "2208   11:30:00  \n",
              "2209   12:30:00  \n",
              "2210   13:30:00  \n",
              "2211   14:30:00  \n",
              "2212   15:30:00  "
            ],
            "text/html": [
              "\n",
              "  <div id=\"df-a0901df3-6017-4434-89c1-396872988561\">\n",
              "    <div class=\"colab-df-container\">\n",
              "      <div>\n",
              "<style scoped>\n",
              "    .dataframe tbody tr th:only-of-type {\n",
              "        vertical-align: middle;\n",
              "    }\n",
              "\n",
              "    .dataframe tbody tr th {\n",
              "        vertical-align: top;\n",
              "    }\n",
              "\n",
              "    .dataframe thead th {\n",
              "        text-align: right;\n",
              "    }\n",
              "</style>\n",
              "<table border=\"1\" class=\"dataframe\">\n",
              "  <thead>\n",
              "    <tr style=\"text-align: right;\">\n",
              "      <th></th>\n",
              "      <th>Date</th>\n",
              "      <th>Open</th>\n",
              "      <th>High</th>\n",
              "      <th>Low</th>\n",
              "      <th>Adj Close</th>\n",
              "      <th>Volume</th>\n",
              "      <th>Start_Time</th>\n",
              "    </tr>\n",
              "  </thead>\n",
              "  <tbody>\n",
              "    <tr>\n",
              "      <th>2203</th>\n",
              "      <td>2023-04-05</td>\n",
              "      <td>406.869995</td>\n",
              "      <td>407.682098</td>\n",
              "      <td>406.549988</td>\n",
              "      <td>407.089996</td>\n",
              "      <td>6702955</td>\n",
              "      <td>13:30:00</td>\n",
              "    </tr>\n",
              "    <tr>\n",
              "      <th>2204</th>\n",
              "      <td>2023-04-05</td>\n",
              "      <td>407.190186</td>\n",
              "      <td>407.769989</td>\n",
              "      <td>406.839996</td>\n",
              "      <td>407.209991</td>\n",
              "      <td>6493785</td>\n",
              "      <td>14:30:00</td>\n",
              "    </tr>\n",
              "    <tr>\n",
              "      <th>2205</th>\n",
              "      <td>2023-04-05</td>\n",
              "      <td>407.220001</td>\n",
              "      <td>407.859985</td>\n",
              "      <td>407.190002</td>\n",
              "      <td>407.649994</td>\n",
              "      <td>8770073</td>\n",
              "      <td>15:30:00</td>\n",
              "    </tr>\n",
              "    <tr>\n",
              "      <th>2206</th>\n",
              "      <td>2023-04-06</td>\n",
              "      <td>406.769989</td>\n",
              "      <td>407.260010</td>\n",
              "      <td>405.678009</td>\n",
              "      <td>406.839996</td>\n",
              "      <td>13020921</td>\n",
              "      <td>09:30:00</td>\n",
              "    </tr>\n",
              "    <tr>\n",
              "      <th>2207</th>\n",
              "      <td>2023-04-06</td>\n",
              "      <td>406.829987</td>\n",
              "      <td>407.350006</td>\n",
              "      <td>406.119995</td>\n",
              "      <td>407.160004</td>\n",
              "      <td>7550425</td>\n",
              "      <td>10:30:00</td>\n",
              "    </tr>\n",
              "    <tr>\n",
              "      <th>2208</th>\n",
              "      <td>2023-04-06</td>\n",
              "      <td>407.170013</td>\n",
              "      <td>408.635010</td>\n",
              "      <td>407.040009</td>\n",
              "      <td>408.464996</td>\n",
              "      <td>7950671</td>\n",
              "      <td>11:30:00</td>\n",
              "    </tr>\n",
              "    <tr>\n",
              "      <th>2209</th>\n",
              "      <td>2023-04-06</td>\n",
              "      <td>408.480011</td>\n",
              "      <td>409.200012</td>\n",
              "      <td>408.420013</td>\n",
              "      <td>408.999908</td>\n",
              "      <td>6151229</td>\n",
              "      <td>12:30:00</td>\n",
              "    </tr>\n",
              "    <tr>\n",
              "      <th>2210</th>\n",
              "      <td>2023-04-06</td>\n",
              "      <td>409.089996</td>\n",
              "      <td>409.379913</td>\n",
              "      <td>408.730011</td>\n",
              "      <td>409.279999</td>\n",
              "      <td>4751863</td>\n",
              "      <td>13:30:00</td>\n",
              "    </tr>\n",
              "    <tr>\n",
              "      <th>2211</th>\n",
              "      <td>2023-04-06</td>\n",
              "      <td>409.295013</td>\n",
              "      <td>409.480011</td>\n",
              "      <td>408.470001</td>\n",
              "      <td>408.888000</td>\n",
              "      <td>6507154</td>\n",
              "      <td>14:30:00</td>\n",
              "    </tr>\n",
              "    <tr>\n",
              "      <th>2212</th>\n",
              "      <td>2023-04-06</td>\n",
              "      <td>408.899994</td>\n",
              "      <td>409.260010</td>\n",
              "      <td>408.750000</td>\n",
              "      <td>409.200012</td>\n",
              "      <td>9993352</td>\n",
              "      <td>15:30:00</td>\n",
              "    </tr>\n",
              "  </tbody>\n",
              "</table>\n",
              "</div>\n",
              "      <button class=\"colab-df-convert\" onclick=\"convertToInteractive('df-a0901df3-6017-4434-89c1-396872988561')\"\n",
              "              title=\"Convert this dataframe to an interactive table.\"\n",
              "              style=\"display:none;\">\n",
              "        \n",
              "  <svg xmlns=\"http://www.w3.org/2000/svg\" height=\"24px\"viewBox=\"0 0 24 24\"\n",
              "       width=\"24px\">\n",
              "    <path d=\"M0 0h24v24H0V0z\" fill=\"none\"/>\n",
              "    <path d=\"M18.56 5.44l.94 2.06.94-2.06 2.06-.94-2.06-.94-.94-2.06-.94 2.06-2.06.94zm-11 1L8.5 8.5l.94-2.06 2.06-.94-2.06-.94L8.5 2.5l-.94 2.06-2.06.94zm10 10l.94 2.06.94-2.06 2.06-.94-2.06-.94-.94-2.06-.94 2.06-2.06.94z\"/><path d=\"M17.41 7.96l-1.37-1.37c-.4-.4-.92-.59-1.43-.59-.52 0-1.04.2-1.43.59L10.3 9.45l-7.72 7.72c-.78.78-.78 2.05 0 2.83L4 21.41c.39.39.9.59 1.41.59.51 0 1.02-.2 1.41-.59l7.78-7.78 2.81-2.81c.8-.78.8-2.07 0-2.86zM5.41 20L4 18.59l7.72-7.72 1.47 1.35L5.41 20z\"/>\n",
              "  </svg>\n",
              "      </button>\n",
              "      \n",
              "  <style>\n",
              "    .colab-df-container {\n",
              "      display:flex;\n",
              "      flex-wrap:wrap;\n",
              "      gap: 12px;\n",
              "    }\n",
              "\n",
              "    .colab-df-convert {\n",
              "      background-color: #E8F0FE;\n",
              "      border: none;\n",
              "      border-radius: 50%;\n",
              "      cursor: pointer;\n",
              "      display: none;\n",
              "      fill: #1967D2;\n",
              "      height: 32px;\n",
              "      padding: 0 0 0 0;\n",
              "      width: 32px;\n",
              "    }\n",
              "\n",
              "    .colab-df-convert:hover {\n",
              "      background-color: #E2EBFA;\n",
              "      box-shadow: 0px 1px 2px rgba(60, 64, 67, 0.3), 0px 1px 3px 1px rgba(60, 64, 67, 0.15);\n",
              "      fill: #174EA6;\n",
              "    }\n",
              "\n",
              "    [theme=dark] .colab-df-convert {\n",
              "      background-color: #3B4455;\n",
              "      fill: #D2E3FC;\n",
              "    }\n",
              "\n",
              "    [theme=dark] .colab-df-convert:hover {\n",
              "      background-color: #434B5C;\n",
              "      box-shadow: 0px 1px 3px 1px rgba(0, 0, 0, 0.15);\n",
              "      filter: drop-shadow(0px 1px 2px rgba(0, 0, 0, 0.3));\n",
              "      fill: #FFFFFF;\n",
              "    }\n",
              "  </style>\n",
              "\n",
              "      <script>\n",
              "        const buttonEl =\n",
              "          document.querySelector('#df-a0901df3-6017-4434-89c1-396872988561 button.colab-df-convert');\n",
              "        buttonEl.style.display =\n",
              "          google.colab.kernel.accessAllowed ? 'block' : 'none';\n",
              "\n",
              "        async function convertToInteractive(key) {\n",
              "          const element = document.querySelector('#df-a0901df3-6017-4434-89c1-396872988561');\n",
              "          const dataTable =\n",
              "            await google.colab.kernel.invokeFunction('convertToInteractive',\n",
              "                                                     [key], {});\n",
              "          if (!dataTable) return;\n",
              "\n",
              "          const docLinkHtml = 'Like what you see? Visit the ' +\n",
              "            '<a target=\"_blank\" href=https://colab.research.google.com/notebooks/data_table.ipynb>data table notebook</a>'\n",
              "            + ' to learn more about interactive tables.';\n",
              "          element.innerHTML = '';\n",
              "          dataTable['output_type'] = 'display_data';\n",
              "          await google.colab.output.renderOutput(dataTable, element);\n",
              "          const docLink = document.createElement('div');\n",
              "          docLink.innerHTML = docLinkHtml;\n",
              "          element.appendChild(docLink);\n",
              "        }\n",
              "      </script>\n",
              "    </div>\n",
              "  </div>\n",
              "  "
            ]
          },
          "metadata": {},
          "execution_count": 6
        }
      ]
    },
    {
      "cell_type": "markdown",
      "source": [
        ".\n",
        "\n",
        ".\n",
        "\n",
        "."
      ],
      "metadata": {
        "id": "sY76ovdVWuN7"
      }
    },
    {
      "cell_type": "markdown",
      "source": [
        "# **Exploratory Data Analysis (EDA's)**"
      ],
      "metadata": {
        "id": "eX92nWtEUCzK"
      }
    },
    {
      "cell_type": "markdown",
      "source": [
        "## DESCRIPTIVE STATS"
      ],
      "metadata": {
        "id": "GXfzQQmQ_Kul"
      }
    },
    {
      "cell_type": "code",
      "source": [
        "#Descriptive stats and correlation coeffifcients for weekly\n",
        "descriptive_weekly = spy_weekly.describe()\n",
        "#corr_coeffs_w = spy_weekly.corr()\n",
        "\n",
        "print(descriptive_weekly)\n",
        "#print(corr_coeffs_w)"
      ],
      "metadata": {
        "id": "v_NGzzfXYQW2",
        "colab": {
          "base_uri": "https://localhost:8080/"
        },
        "outputId": "62d621e8-743c-4d45-89cc-ab8cb1be5637"
      },
      "execution_count": null,
      "outputs": [
        {
          "output_type": "stream",
          "name": "stdout",
          "text": [
            "             Open        High         Low   Adj Close        Volume\n",
            "count   66.000000   66.000000   66.000000   66.000000  6.600000e+01\n",
            "mean   406.674091  415.135152  397.546212  401.697946  4.506371e+08\n",
            "std     26.227065   25.761119   26.323041   24.025174  1.303502e+08\n",
            "min    361.079987  370.260010  348.109985  354.195526  2.104792e+08\n",
            "25%    388.877502  399.162506  380.567505  384.641617  3.625530e+08\n",
            "50%    402.500000  409.850006  391.985001  400.916092  4.263864e+08\n",
            "75%    422.975014  431.212509  411.067497  415.623245  5.292810e+08\n",
            "max    476.299988  479.980011  464.649994  456.905426  9.205080e+08\n"
          ]
        }
      ]
    },
    {
      "cell_type": "code",
      "source": [
        "#Descriptive stats and correlation coeffifcients for daily\n",
        "descriptive_daily = spy_daily.describe()\n",
        "#corr_coeffs_d = spy_daily.corr()\n",
        "\n",
        "print(descriptive_daily)\n",
        "#print(corr_coeffs_d)"
      ],
      "metadata": {
        "colab": {
          "base_uri": "https://localhost:8080/"
        },
        "id": "Z1PGt5pn550M",
        "outputId": "b9737eca-1ec3-481b-ec51-afa75169c0e9"
      },
      "execution_count": null,
      "outputs": [
        {
          "output_type": "stream",
          "name": "stdout",
          "text": [
            "             Open        High         Low   Adj Close        Volume\n",
            "count  317.000000  317.000000  317.000000  317.000000  3.170000e+02\n",
            "mean   406.912460  410.344133  403.252776  402.225328  9.382350e+07\n",
            "std     26.600321   26.381362   26.398350   24.619247  3.094839e+07\n",
            "min    349.209991  359.820007  348.109985  353.580688  3.054540e+07\n",
            "25%    388.380005  391.359985  385.260010  385.277618  7.327850e+07\n",
            "50%    401.559998  404.100006  397.600006  397.632385  8.628980e+07\n",
            "75%    423.670013  428.609985  419.209991  417.095642  1.081113e+08\n",
            "max    479.220001  479.980011  475.579987  468.296417  2.517839e+08\n"
          ]
        }
      ]
    },
    {
      "cell_type": "code",
      "source": [
        "#Descriptive stats and correlation coeffifcients for hourly\n",
        "descriptive_hourly = spy_hourly.describe()\n",
        "#corr_coeffs_h = spy_hourly.corr()\n",
        "\n",
        "print(descriptive_hourly)\n",
        "#print(corr_coeffs_h)"
      ],
      "metadata": {
        "colab": {
          "base_uri": "https://localhost:8080/"
        },
        "id": "DL6_FG2L59vX",
        "outputId": "1cb4fe86-40e6-4147-822b-12c77cefaae1"
      },
      "execution_count": null,
      "outputs": [
        {
          "output_type": "stream",
          "name": "stdout",
          "text": [
            "              Open         High          Low    Adj Close        Volume\n",
            "count  2213.000000  2213.000000  2213.000000  2213.000000  2.213000e+03\n",
            "mean    406.888120   408.107429   405.613997   406.892795  1.187179e+07\n",
            "std      26.450495    26.416920    26.452601    26.429227  6.529773e+06\n",
            "min     349.204987   354.140900   348.109985   352.000000  0.000000e+00\n",
            "25%     388.359985   389.549988   387.339996   388.429993  7.414411e+06\n",
            "50%     400.759888   402.049988   399.410004   400.649994  1.020895e+07\n",
            "75%     423.160004   424.670013   421.750000   423.010010  1.431216e+07\n",
            "max     479.579987   479.980011   478.709991   479.589996  6.634379e+07\n"
          ]
        }
      ]
    },
    {
      "cell_type": "markdown",
      "source": [
        "## PLOTS FOR **DAILY**"
      ],
      "metadata": {
        "id": "x9lbZr5G-Pub"
      }
    },
    {
      "cell_type": "code",
      "source": [
        "# create a histogram for daily\n",
        "sns.histplot(data=spy_daily, x='Adj Close').set(title='Distribution of Daily Close Prices for SPY in 2022')"
      ],
      "metadata": {
        "id": "YPReF_1p8oLD",
        "outputId": "fe031cae-6530-49ef-acba-08032717ecc8",
        "colab": {
          "base_uri": "https://localhost:8080/",
          "height": 490
        }
      },
      "execution_count": null,
      "outputs": [
        {
          "output_type": "execute_result",
          "data": {
            "text/plain": [
              "[Text(0.5, 1.0, 'Distribution of Daily Close Prices for SPY in 2022')]"
            ]
          },
          "metadata": {},
          "execution_count": 10
        },
        {
          "output_type": "display_data",
          "data": {
            "text/plain": [
              "<Figure size 640x480 with 1 Axes>"
            ],
            "image/png": "[encoded data removed]"
          },
          "metadata": {}
        }
      ]
    },
    {
      "cell_type": "code",
      "source": [
        "# create a boxplot for daily\n",
        "sns.boxplot(data=spy_daily, y='Adj Close').set(title='Distribution of Daily Close Prices for SPY in 2022')"
      ],
      "metadata": {
        "id": "bfNwoR-M9U4Q",
        "outputId": "09c28a1e-ba0d-45b2-efca-cf304917ce38",
        "colab": {
          "base_uri": "https://localhost:8080/",
          "height": 451
        }
      },
      "execution_count": null,
      "outputs": [
        {
          "output_type": "execute_result",
          "data": {
            "text/plain": [
              "[Text(0.5, 1.0, 'Distribution of Daily Close Prices for SPY in 2022')]"
            ]
          },
          "metadata": {},
          "execution_count": 11
        },
        {
          "output_type": "display_data",
          "data": {
            "text/plain": [
              "<Figure size 640x480 with 1 Axes>"
            ],
            "image/png": "[encoded data removed]"
          },
          "metadata": {}
        }
      ]
    },
    {
      "cell_type": "code",
      "source": [
        "# create a scatterplot for daily (adj close vs. volume)\n",
        "sns.scatterplot(data=spy_daily, x='Adj Close', y='Volume').set(title='Daily Closing Prices vs. Volume for SPY in 2022')"
      ],
      "metadata": {
        "id": "vdQ87Npk9bCp",
        "outputId": "84eefda1-dc47-491f-b5a8-e2d4c6be7903",
        "colab": {
          "base_uri": "https://localhost:8080/",
          "height": 490
        }
      },
      "execution_count": null,
      "outputs": [
        {
          "output_type": "execute_result",
          "data": {
            "text/plain": [
              "[Text(0.5, 1.0, 'Daily Closing Prices vs. Volume for SPY in 2022')]"
            ]
          },
          "metadata": {},
          "execution_count": 12
        },
        {
          "output_type": "display_data",
          "data": {
            "text/plain": [
              "<Figure size 640x480 with 1 Axes>"
            ],
            "image/png": "[encoded data removed]"
          },
          "metadata": {}
        }
      ]
    },
    {
      "cell_type": "markdown",
      "source": [
        "## PLOTS FOR **WEEKLY**"
      ],
      "metadata": {
        "id": "sXsdcFtS-YHj"
      }
    },
    {
      "cell_type": "code",
      "source": [
        "# create a histogram for weekly\n",
        "sns.histplot(data=spy_weekly, x='Adj Close').set(title='Distribution of Weekly Close Prices for SPY in 2022')"
      ],
      "metadata": {
        "id": "cDoAaMWl-I-4",
        "outputId": "8ea65fd3-08ae-4f7f-87d7-6f500a3c5196",
        "colab": {
          "base_uri": "https://localhost:8080/",
          "height": 490
        }
      },
      "execution_count": null,
      "outputs": [
        {
          "output_type": "execute_result",
          "data": {
            "text/plain": [
              "[Text(0.5, 1.0, 'Distribution of Weekly Close Prices for SPY in 2022')]"
            ]
          },
          "metadata": {},
          "execution_count": 13
        },
        {
          "output_type": "display_data",
          "data": {
            "text/plain": [
              "<Figure size 640x480 with 1 Axes>"
            ],
            "image/png": "[encoded data removed]"
          },
          "metadata": {}
        }
      ]
    },
    {
      "cell_type": "code",
      "source": [
        "# create a boxplot for weekly\n",
        "sns.boxplot(data=spy_weekly, y='Adj Close').set(title='Distribution of Weekly Close Prices for SPY in 2022')"
      ],
      "metadata": {
        "id": "sHNT5gAu-JK1",
        "outputId": "2cd81b87-b0be-4b65-f8da-4b574b9275bc",
        "colab": {
          "base_uri": "https://localhost:8080/",
          "height": 451
        }
      },
      "execution_count": null,
      "outputs": [
        {
          "output_type": "execute_result",
          "data": {
            "text/plain": [
              "[Text(0.5, 1.0, 'Distribution of Weekly Close Prices for SPY in 2022')]"
            ]
          },
          "metadata": {},
          "execution_count": 14
        },
        {
          "output_type": "display_data",
          "data": {
            "text/plain": [
              "<Figure size 640x480 with 1 Axes>"
            ],
            "image/png": "[encoded data removed]"
          },
          "metadata": {}
        }
      ]
    },
    {
      "cell_type": "code",
      "source": [
        "# create a scatterplot for weekly (adj close vs. volume)\n",
        "sns.scatterplot(data=spy_weekly, x='Adj Close', y='Volume').set(title='Weekly Closing Prices vs. Volume for SPY in 2022')"
      ],
      "metadata": {
        "id": "SlS0uTwW-JVA",
        "outputId": "fb7c802f-b0ca-4dd6-9505-640976ce9e05",
        "colab": {
          "base_uri": "https://localhost:8080/",
          "height": 490
        }
      },
      "execution_count": null,
      "outputs": [
        {
          "output_type": "execute_result",
          "data": {
            "text/plain": [
              "[Text(0.5, 1.0, 'Weekly Closing Prices vs. Volume for SPY in 2022')]"
            ]
          },
          "metadata": {},
          "execution_count": 15
        },
        {
          "output_type": "display_data",
          "data": {
            "text/plain": [
              "<Figure size 640x480 with 1 Axes>"
            ],
            "image/png": "[encoded data removed]"
          },
          "metadata": {}
        }
      ]
    },
    {
      "cell_type": "markdown",
      "source": [
        "##PLOTS FOR **HOURLY**"
      ],
      "metadata": {
        "id": "rzjD1irw-u78"
      }
    },
    {
      "cell_type": "code",
      "source": [
        "# create a histogram for hourly\n",
        "sns.histplot(data=spy_hourly, x='Adj Close').set(title='Distribution of Hourly Close Prices for SPY in 2022')"
      ],
      "metadata": {
        "id": "T6fUZbg0-0R2",
        "outputId": "14e4f8aa-9fc0-4c83-df9c-098883702d99",
        "colab": {
          "base_uri": "https://localhost:8080/",
          "height": 490
        }
      },
      "execution_count": null,
      "outputs": [
        {
          "output_type": "execute_result",
          "data": {
            "text/plain": [
              "[Text(0.5, 1.0, 'Distribution of Hourly Close Prices for SPY in 2022')]"
            ]
          },
          "metadata": {},
          "execution_count": 16
        },
        {
          "output_type": "display_data",
          "data": {
            "text/plain": [
              "<Figure size 640x480 with 1 Axes>"
            ],
            "image/png": "[encoded data removed]"
          },
          "metadata": {}
        }
      ]
    },
    {
      "cell_type": "code",
      "source": [
        "# create a boxplot for hourly\n",
        "sns.boxplot(data=spy_hourly, y='Adj Close').set(title='Distribution of Hourly Close Prices for SPY in 2022')"
      ],
      "metadata": {
        "id": "z-c6HC1w-2pn",
        "outputId": "6ab6c8e5-f45e-4cea-ddf0-014f22e16c59",
        "colab": {
          "base_uri": "https://localhost:8080/",
          "height": 451
        }
      },
      "execution_count": null,
      "outputs": [
        {
          "output_type": "execute_result",
          "data": {
            "text/plain": [
              "[Text(0.5, 1.0, 'Distribution of Hourly Close Prices for SPY in 2022')]"
            ]
          },
          "metadata": {},
          "execution_count": 17
        },
        {
          "output_type": "display_data",
          "data": {
            "text/plain": [
              "<Figure size 640x480 with 1 Axes>"
            ],
            "image/png": "[encoded data removed]"
          },
          "metadata": {}
        }
      ]
    },
    {
      "cell_type": "code",
      "source": [
        "# create a scatterplot for hourly (adj close vs. volume)\n",
        "sns.scatterplot(data=spy_hourly, x='Adj Close', y='Volume').set(title='Hourly Closing Prices vs. Volume for SPY in 2022')"
      ],
      "metadata": {
        "id": "bsNbdb4w-3ha",
        "outputId": "1b1f74db-365b-4b68-f0ab-f002328fd70a",
        "colab": {
          "base_uri": "https://localhost:8080/",
          "height": 490
        }
      },
      "execution_count": null,
      "outputs": [
        {
          "output_type": "execute_result",
          "data": {
            "text/plain": [
              "[Text(0.5, 1.0, 'Hourly Closing Prices vs. Volume for SPY in 2022')]"
            ]
          },
          "metadata": {},
          "execution_count": 18
        },
        {
          "output_type": "display_data",
          "data": {
            "text/plain": [
              "<Figure size 640x480 with 1 Axes>"
            ],
            "image/png": "[encoded data removed]"
          },
          "metadata": {}
        }
      ]
    },
    {
      "cell_type": "markdown",
      "source": [
        "## **Outlier Detection**"
      ],
      "metadata": {
        "id": "3T81CkOAA1Tz"
      }
    },
    {
      "cell_type": "code",
      "source": [
        "#Daily Closing Price\n",
        "#identify outliers\n",
        "q1 = spy_daily['Adj Close'].quantile(0.25)\n",
        "q3 = spy_daily['Adj Close'].quantile(0.75)\n",
        "iqr = q3 - q1\n",
        "lower_bound = q1 - 1.5*iqr\n",
        "upper_bound = q3 + 1.5*iqr\n",
        "outliers = spy_daily[(spy_daily['Adj Close'] < lower_bound) | (spy_daily['Adj Close'] > upper_bound)]\n",
        "print('Number of outliers:', len(outliers))\n",
        "\n",
        "if(len(outliers)>=1):\n",
        "  spy_daily['Close_log'] = np.log(spy_daily['Adj Close'])\n",
        "  sns.boxplot(data=spy_daily, x='Close_log')\n",
        "else: \n",
        "  print(\"There are no outliers\")"
      ],
      "metadata": {
        "id": "J3k5kEw4AA5t",
        "outputId": "c9cbf651-59e5-4413-9f60-b6ac27769113",
        "colab": {
          "base_uri": "https://localhost:8080/",
          "height": 468
        }
      },
      "execution_count": null,
      "outputs": [
        {
          "output_type": "stream",
          "name": "stdout",
          "text": [
            "Number of outliers: 2\n"
          ]
        },
        {
          "output_type": "display_data",
          "data": {
            "text/plain": [
              "<Figure size 640x480 with 1 Axes>"
            ],
            "image/png": "[encoded data removed]"
          },
          "metadata": {}
        }
      ]
    },
    {
      "cell_type": "code",
      "source": [
        "#Daily Volume\n",
        "# identify outliers\n",
        "q1 = spy_daily['Volume'].quantile(0.25)\n",
        "q3 = spy_daily['Volume'].quantile(0.75)\n",
        "iqr = q3 - q1\n",
        "lower_bound = q1 - 1.5*iqr\n",
        "upper_bound = q3 + 1.5*iqr\n",
        "outliers = spy_daily[(spy_daily['Volume'] < lower_bound) | (spy_daily['Volume'] > upper_bound)]\n",
        "print('Number of outliers:', len(outliers))\n",
        "\n",
        "if(len(outliers)>=1):\n",
        "  spy_daily['Volume_log'] = np.log(spy_daily['Volume'])\n",
        "  sns.boxplot(data=spy_daily, x='Volume_log')\n",
        "else: \n",
        "  print(\"There are no outliers\")\n"
      ],
      "metadata": {
        "id": "5JxrdGpjBjEQ",
        "outputId": "c8b95b42-e463-4fe0-952a-1a1e02b62525",
        "colab": {
          "base_uri": "https://localhost:8080/",
          "height": 468
        }
      },
      "execution_count": null,
      "outputs": [
        {
          "output_type": "stream",
          "name": "stdout",
          "text": [
            "Number of outliers: 11\n"
          ]
        },
        {
          "output_type": "display_data",
          "data": {
            "text/plain": [
              "<Figure size 640x480 with 1 Axes>"
            ],
            "image/png": "[encoded data removed]"
          },
          "metadata": {}
        }
      ]
    },
    {
      "cell_type": "code",
      "source": [
        "#Weekly Closing Price\n",
        "#identify outliers\n",
        "q1 = spy_weekly['Adj Close'].quantile(0.25)\n",
        "q3 = spy_weekly['Adj Close'].quantile(0.75)\n",
        "iqr = q3 - q1\n",
        "lower_bound = q1 - 1.5*iqr\n",
        "upper_bound = q3 + 1.5*iqr\n",
        "outliers = spy_weekly[(spy_weekly['Adj Close'] < lower_bound) | (spy_weekly['Adj Close'] > upper_bound)]\n",
        "print('Number of outliers:', len(outliers))\n",
        "\n",
        "if(len(outliers)>=1):\n",
        "  spy_daily['Close_log'] = np.log(spy_daily['Adj Close'])\n",
        "  sns.boxplot(data=spy_daily, x='Close_log')\n",
        "else: \n",
        "  print(\"There are no outliers\")"
      ],
      "metadata": {
        "id": "9CBvf-iiA_nJ",
        "outputId": "777be443-4f90-4987-c36e-591a599faf3b",
        "colab": {
          "base_uri": "https://localhost:8080/"
        }
      },
      "execution_count": null,
      "outputs": [
        {
          "output_type": "stream",
          "name": "stdout",
          "text": [
            "Number of outliers: 0\n",
            "There are no outliers\n"
          ]
        }
      ]
    },
    {
      "cell_type": "code",
      "source": [
        "#Weekly Volume\n",
        "# identify outliers\n",
        "q1 = spy_weekly['Volume'].quantile(0.25)\n",
        "q3 = spy_weekly['Volume'].quantile(0.75)\n",
        "iqr = q3 - q1\n",
        "lower_bound = q1 - 1.5*iqr\n",
        "upper_bound = q3 + 1.5*iqr\n",
        "outliers = spy_weekly[(spy_weekly['Volume'] < lower_bound) | (spy_weekly['Volume'] > upper_bound)]\n",
        "print('Number of outliers:', len(outliers))\n",
        "\n",
        "if(len(outliers)>=1):\n",
        "  spy_weekly['Volume_log'] = np.log(spy_weekly['Volume'])\n",
        "  sns.boxplot(data=spy_weekly, x='Volume_log')\n",
        "else: \n",
        "  print(\"There are no outliers\")\n"
      ],
      "metadata": {
        "id": "C5gajpxBBkCk",
        "outputId": "4346e360-462b-47b2-b259-1d758f9c227f",
        "colab": {
          "base_uri": "https://localhost:8080/",
          "height": 468
        }
      },
      "execution_count": null,
      "outputs": [
        {
          "output_type": "stream",
          "name": "stdout",
          "text": [
            "Number of outliers: 1\n"
          ]
        },
        {
          "output_type": "display_data",
          "data": {
            "text/plain": [
              "<Figure size 640x480 with 1 Axes>"
            ],
            "image/png": "[encoded data removed]"
          },
          "metadata": {}
        }
      ]
    },
    {
      "cell_type": "code",
      "source": [
        "# Hourly Closing Price\n",
        "# identify outliers\n",
        "q1 = spy_hourly['Adj Close'].quantile(0.25)\n",
        "q3 = spy_hourly['Adj Close'].quantile(0.75)\n",
        "iqr = q3 - q1\n",
        "lower_bound = q1 - 1.5*iqr\n",
        "upper_bound = q3 + 1.5*iqr\n",
        "outliers = spy_hourly[(spy_hourly['Adj Close'] < lower_bound) | (spy_hourly['Adj Close'] > upper_bound)]\n",
        "print('Number of outliers:', len(outliers))\n",
        "\n",
        "if(len(outliers)>=1):\n",
        "  spy_hourly['Close_log'] = np.log(spy_hourly['Adj Close'])\n",
        "  sns.boxplot(data=spy_hourly, x='Close_log')\n",
        "else: \n",
        "  print(\"There are no outliers\")\n"
      ],
      "metadata": {
        "id": "FDX8uaSyBSn_",
        "outputId": "fdc00de9-d8da-455f-fa77-076f07792954",
        "colab": {
          "base_uri": "https://localhost:8080/",
          "height": 468
        }
      },
      "execution_count": null,
      "outputs": [
        {
          "output_type": "stream",
          "name": "stdout",
          "text": [
            "Number of outliers: 18\n"
          ]
        },
        {
          "output_type": "display_data",
          "data": {
            "text/plain": [
              "<Figure size 640x480 with 1 Axes>"
            ],
            "image/png": "[encoded data removed]"
          },
          "metadata": {}
        }
      ]
    },
    {
      "cell_type": "code",
      "source": [
        "# Hourly Volume\n",
        "# identify outliers\n",
        "q1 = spy_hourly['Volume'].quantile(0.25)\n",
        "q3 = spy_hourly['Volume'].quantile(0.75)\n",
        "iqr = q3 - q1\n",
        "lower_bound = q1 - 1.5*iqr\n",
        "upper_bound = q3 + 1.5*iqr\n",
        "outliers = spy_hourly[(spy_hourly['Volume'] < lower_bound) | (spy_hourly['Volume'] > upper_bound)]\n",
        "print('Number of outliers:', len(outliers))\n",
        "\n",
        "if(len(outliers)>=1):\n",
        "  spy_hourly['Volume_log'] = np.log(spy_hourly['Volume'])\n",
        "  sns.boxplot(data=spy_hourly, x='Volume_log')\n",
        "else: \n",
        "  print(\"There are no outliers\")\n"
      ],
      "metadata": {
        "id": "PHsZdc6xBk5C",
        "outputId": "7588e0f7-56ab-4035-8fda-1fa829b70a7f",
        "colab": {
          "base_uri": "https://localhost:8080/",
          "height": 504
        }
      },
      "execution_count": null,
      "outputs": [
        {
          "output_type": "stream",
          "name": "stdout",
          "text": [
            "Number of outliers: 105\n"
          ]
        },
        {
          "output_type": "stream",
          "name": "stderr",
          "text": [
            "/usr/local/lib/python3.10/dist-packages/pandas/core/arraylike.py:402: RuntimeWarning: divide by zero encountered in log\n",
            "  result = getattr(ufunc, method)(*inputs, **kwargs)\n"
          ]
        },
        {
          "output_type": "display_data",
          "data": {
            "text/plain": [
              "<Figure size 640x480 with 1 Axes>"
            ],
            "image/png": "[encoded data removed]"
          },
          "metadata": {}
        }
      ]
    },
    {
      "cell_type": "markdown",
      "source": [
        ".\n",
        "\n",
        ".\n",
        "\n",
        "."
      ],
      "metadata": {
        "id": "gmvKg784Wg5K"
      }
    },
    {
      "cell_type": "markdown",
      "source": [
        "# PREPROCESSING"
      ],
      "metadata": {
        "id": "toJR2tP4OU05"
      }
    },
    {
      "cell_type": "code",
      "source": [
        "#for implementing series_to_supervised() function\n",
        "from pandas import DataFrame\n",
        "from pandas import concat\n",
        "\n",
        "# Get the Adjusted Close Price for weekly, daily, & hourly data\n",
        "weekly_select = spy_weekly[['Adj Close']]\n",
        "daily_select = spy_daily[['Adj Close']]\n",
        "hourly_select = spy_hourly[['Adj Close']]\n",
        "\n",
        "# converting the datasets to a numpy arrays\n",
        "values_weekly = weekly_select.values\n",
        "values_daily = daily_select.values\n",
        "values_hourly = hourly_select.values"
      ],
      "metadata": {
        "id": "q5tXCMszOmIa"
      },
      "execution_count": null,
      "outputs": []
    },
    {
      "cell_type": "markdown",
      "source": [
        "**STATIONARY & SEASONALITY**"
      ],
      "metadata": {
        "id": "qoRp92mwQcxP"
      }
    },
    {
      "cell_type": "code",
      "source": [
        "#Function to differentiate in order to achieve stationarity\n",
        "def make_stationary(time_series, column_name, alpha=0.05):\n",
        "    p_values = []\n",
        "    for i in range(1, 10):\n",
        "        test = sts.adfuller(time_series[column_name].diff(i).dropna())\n",
        "        p_values.append((i, test[1]))\n",
        "    significant = [p for p in p_values if p[1] < alpha]\n",
        "    if len(significant) == 0:\n",
        "        print(\"No differencing order achieves stationarity at the specified alpha level.\")\n",
        "        return None\n",
        "    else:\n",
        "        diff_order = sorted(significant)[0][0]\n",
        "        stationary_series = time_series[column_name].diff(diff_order).dropna()\n",
        "        return diff_order, stationary_series"
      ],
      "metadata": {
        "id": "pHtF-yStsEEy"
      },
      "execution_count": null,
      "outputs": []
    },
    {
      "cell_type": "code",
      "source": [
        "##Check for statiionarity - WEEKLY\n",
        "import statsmodels.tsa.stattools as sts\n",
        "sts.adfuller(spy_weekly['Adj Close'])"
      ],
      "metadata": {
        "id": "MNrpNSISOAdK",
        "colab": {
          "base_uri": "https://localhost:8080/"
        },
        "outputId": "10f8116c-8303-4878-83ad-abca8652ea13"
      },
      "execution_count": null,
      "outputs": [
        {
          "output_type": "execute_result",
          "data": {
            "text/plain": [
              "(-2.7864408441631956,\n",
              " 0.06023685189857615,\n",
              " 0,\n",
              " 65,\n",
              " {'1%': -3.5352168748293127,\n",
              "  '5%': -2.9071540828402367,\n",
              "  '10%': -2.5911025443786984},\n",
              " 416.33473815962685)"
            ]
          },
          "metadata": {},
          "execution_count": 27
        }
      ]
    },
    {
      "cell_type": "markdown",
      "source": [
        "Explain stationary and seasonality - Weeekly\n",
        "\n",
        "The output shows:\n",
        "\n",
        "*   Test statistic: -2.7864\n",
        "*   p-value: 0.0602\n",
        "*   Number of lags used: 0\n",
        "*   Number of observations used for the ADF regression and calculation of the critical values: 65\n",
        "*   Critical values at the 1%, 5%, and 10% levels: -3.5352, -2.9072, and -2.5911, respectively\n",
        "*   Maximum information criterion (used to select the number of lags in the ADF regression): 416.3347\n",
        "\n",
        "\n",
        "In order to test for stationarity, we must compare the p-value to critical value. The p-value is greater than the significance at 0.05, so we cannot assume stationarity."
      ],
      "metadata": {
        "id": "XZ-WPKHnOPxy"
      }
    },
    {
      "cell_type": "code",
      "source": [
        "#Differentiated WEEKLY\n",
        "#sts.adfuller(spy_weekly['Adj Close'].diff(2).dropna())\n",
        "diff_order, stationary_weekly = make_stationary(spy_weekly, 'Adj Close')\n",
        "\n",
        "sns.histplot(data=stationary_weekly)\n",
        "\n",
        "sts.adfuller(stationary_weekly)"
      ],
      "metadata": {
        "colab": {
          "base_uri": "https://localhost:8080/",
          "height": 592
        },
        "id": "YcrrG_7Kow87",
        "outputId": "a9e82039-6741-4d98-d15d-df00681f0cb7"
      },
      "execution_count": null,
      "outputs": [
        {
          "output_type": "execute_result",
          "data": {
            "text/plain": [
              "(-8.295045713047388,\n",
              " 4.161901338719485e-13,\n",
              " 0,\n",
              " 64,\n",
              " {'1%': -3.53692771987915,\n",
              "  '5%': -2.907887369384766,\n",
              "  '10%': -2.591493291015625},\n",
              " 418.11161720153814)"
            ]
          },
          "metadata": {},
          "execution_count": 28
        },
        {
          "output_type": "display_data",
          "data": {
            "text/plain": [
              "<Figure size 640x480 with 1 Axes>"
            ],
            "image/png": "[encoded data removed]"
          },
          "metadata": {}
        }
      ]
    },
    {
      "cell_type": "markdown",
      "source": [
        "After differentiation, the p-value is now less than the significance level of 0.05, indicating stationarity."
      ],
      "metadata": {
        "id": "IdfnftgcpAXa"
      }
    },
    {
      "cell_type": "code",
      "source": [
        "##Check for statiionarity - DAILY\n",
        "sts.adfuller(spy_daily['Adj Close'])\n",
        "#NOT SURE IF U WANT THE HISTO FOR THIS AGAIN TO SHOW TREND BUT SHES COMMENTED BELOW\n",
        "#sns.histplot(data=spy_daily, x='Adj Close').set(title='Distribution of Daily Close Prices for SPY in 2022')"
      ],
      "metadata": {
        "colab": {
          "base_uri": "https://localhost:8080/"
        },
        "id": "9bHJ3hWgiIBx",
        "outputId": "6b3b86f9-58db-4879-978f-557f9048ff4a"
      },
      "execution_count": null,
      "outputs": [
        {
          "output_type": "execute_result",
          "data": {
            "text/plain": [
              "(-2.9657119755634316,\n",
              " 0.038222922431110175,\n",
              " 0,\n",
              " 316,\n",
              " {'1%': -3.4512146067362317,\n",
              "  '5%': -2.870730188960711,\n",
              "  '10%': -2.5716664849383113},\n",
              " 1897.9402628447535)"
            ]
          },
          "metadata": {},
          "execution_count": 29
        }
      ]
    },
    {
      "cell_type": "markdown",
      "source": [
        "Explain stationary and seasonality - Daily\n",
        "\n",
        "The output shows:\n",
        "\n",
        "*   Test statistic: -2.9657\n",
        "*   p-value: 0.0382\n",
        "*   Number of lags used: 0\n",
        "*   Number of observations used for the ADF regression and calculation of the critical values: 316\n",
        "*   Critical values at the 1%, 5%, and 10% levels: -3.4512, -2.8707, and -2.5717, respectively\n",
        "*   Maximum information criterion (used to select the number of lags in the ADF regression): 1897.9403\n",
        "\n",
        "\n",
        "In order to test for stationarity, we must compare the p-value to critical value. The p-value is less than the significance at 0.05, so we can assume stationarity."
      ],
      "metadata": {
        "id": "_zYQO3fIiKo3"
      }
    },
    {
      "cell_type": "code",
      "source": [
        "#Check for statiionarity - HOURLY\n",
        "sts.adfuller(spy_hourly['Adj Close'])"
      ],
      "metadata": {
        "colab": {
          "base_uri": "https://localhost:8080/"
        },
        "id": "YDIkwgbAiLd9",
        "outputId": "4dd376d4-128d-47f9-efcf-96c8b715c9a0"
      },
      "execution_count": null,
      "outputs": [
        {
          "output_type": "execute_result",
          "data": {
            "text/plain": [
              "(-2.81484851277879,\n",
              " 0.05618386713778683,\n",
              " 0,\n",
              " 2212,\n",
              " {'1%': -3.4333097218995423,\n",
              "  '5%': -2.862847514596788,\n",
              "  '10%': -2.5674660532963385},\n",
              " 9495.910866375416)"
            ]
          },
          "metadata": {},
          "execution_count": 30
        }
      ]
    },
    {
      "cell_type": "markdown",
      "source": [
        "Explain stationary and seasonality - Hourly\n",
        "\n",
        "The output shows:\n",
        "\n",
        "*   Test statistic: -2.8159\n",
        "*   p-value: 0.0560\n",
        "*   Number of lags used: 0\n",
        "*   Number of observations used for the ADF regression and calculation of the critical values: 2214\n",
        "*   Critical values at the 1%, 5%, and 10% levels: -3.4333, -2.8628, and -2.5675, respectively\n",
        "*   Maximum information criterion (used to select the number of lags in the ADF regression): 9501.7758\n",
        "\n",
        "\n",
        "In order to test for stationarity, we must compare the p-value to critical value. The p-value is greater than the significance at 0.05, so we fail to assume stationarity."
      ],
      "metadata": {
        "id": "ujLw3F9RiL4-"
      }
    },
    {
      "cell_type": "code",
      "source": [
        "#Differentiated HOURLY\n",
        "diff_order, stationary_hourly = make_stationary(spy_hourly, 'Adj Close')\n",
        "\n",
        "sns.histplot(data=stationary_hourly)\n",
        "sts.adfuller(stationary_hourly)"
      ],
      "metadata": {
        "colab": {
          "base_uri": "https://localhost:8080/",
          "height": 592
        },
        "id": "fR_hjx-oniRy",
        "outputId": "07039f89-ca8c-424a-a6d5-c625c949c889"
      },
      "execution_count": null,
      "outputs": [
        {
          "output_type": "execute_result",
          "data": {
            "text/plain": [
              "(-46.6828504788312,\n",
              " 0.0,\n",
              " 0,\n",
              " 2211,\n",
              " {'1%': -3.433311062093479,\n",
              "  '5%': -2.8628481063596647,\n",
              "  '10%': -2.5674663683699017},\n",
              " 9499.632273522302)"
            ]
          },
          "metadata": {},
          "execution_count": 31
        },
        {
          "output_type": "display_data",
          "data": {
            "text/plain": [
              "<Figure size 640x480 with 1 Axes>"
            ],
            "image/png": "[encoded data removed]"
          },
          "metadata": {}
        }
      ]
    },
    {
      "cell_type": "markdown",
      "source": [
        "After differentiation, the p-value is now less than the significance level of 0.05, indicating stationarity."
      ],
      "metadata": {
        "id": "3mVWYI8svpxE"
      }
    },
    {
      "cell_type": "markdown",
      "source": [
        "**SERIES TO SUPERVISED**"
      ],
      "metadata": {
        "id": "RfPndq1JQlGe"
      }
    },
    {
      "cell_type": "markdown",
      "source": [
        "We can define a function named series_to_supervised() that will take in a univariate or multivariate time series and frame it as a supervised learning dataset."
      ],
      "metadata": {
        "id": "STTdv4QhoW7W"
      }
    },
    {
      "cell_type": "code",
      "source": [
        "#series_to_supervised\n",
        "def series_to_supervised(data, n_in=10, n_out=1, dropnan=True):\n",
        "    \"\"\"\n",
        "    Frame a time series as a supervised learning dataset .\n",
        "    Arguments :\n",
        "     data : Sequence of observations as a list or NumPy array .\n",
        "     n_in : Number of lag observations as input (X).\n",
        "     n_out : Number of observations as output (y).\n",
        "     dropnan : Boolean whether or not to drop rows with NaN values .\n",
        "    Returns :\n",
        "     Pandas DataFrame of series framed for supervised learning .\n",
        "    \"\"\" \n",
        "    n_vars = 1 if type(data) is list else data.shape[1]\n",
        "    df = DataFrame(data)\n",
        "    cols, names = list(), list()\n",
        "    \n",
        "    # input sequence (t-n, ... t-1)\n",
        "    for i in range(n_in, 0, -1):\n",
        "        cols.append(df.shift(i))\n",
        "        names += [('var %d(t-%d)' % (j+1, i)) for j in range(n_vars)]\n",
        "    # forecast sequence (t, t+1, ... t+n)\n",
        "    for i in range(0, n_out):\n",
        "        cols.append(df.shift(-i))\n",
        "        if i == 0:\n",
        "            names += [('var%d(t)' % (j+1)) for j in range(n_vars)]\n",
        "        else:\n",
        "            names += [('var%d(t+%d)' % (j+1, i)) for j in range(n_vars )]\n",
        "    # put it all together\n",
        "    agg = concat(cols, axis =1)\n",
        "    agg.columns = names\n",
        "    # drop rows with NaN values\n",
        "    if dropnan:\n",
        "        agg.dropna(inplace = True)\n",
        "    return agg"
      ],
      "metadata": {
        "id": "w5aWqcRGmM5q"
      },
      "execution_count": null,
      "outputs": []
    },
    {
      "cell_type": "markdown",
      "source": [
        "Below are the supervised learning datasets for the last 10 weeks, days, and hours of the SPY 500 in 2022"
      ],
      "metadata": {
        "id": "ZQ5w7JdCqFaX"
      }
    },
    {
      "cell_type": "code",
      "source": [
        "\n",
        "\n",
        "\n",
        "#implementing series_to_supervised to weekly data\n",
        "spy_weekly_sts = series_to_supervised(values_weekly, 10)\n",
        "print(\"Weekly data as a supervised learning dataset:\")\n",
        "print(spy_weekly_sts)\n",
        "print(\" \")\n",
        "\n",
        "#implementing series_to_supervised to daily data\n",
        "spy_daily_sts = series_to_supervised(values_daily, 10)\n",
        "print(\"Daily data as a supervised learning dataset:\")\n",
        "print(spy_daily_sts)\n",
        "print(\" \")\n",
        "\n",
        "#implementing series_to_supervised to hourly data\n",
        "spy_hourly_sts = series_to_supervised(values_hourly, 10)\n",
        "print(\"Hourly data as a supervised learning dataset:\")\n",
        "print(spy_hourly_sts)\n"
      ],
      "metadata": {
        "colab": {
          "base_uri": "https://localhost:8080/"
        },
        "id": "7QBmbC15qPqF",
        "outputId": "83f888ad-19df-4b52-b569-4340f221ec1d"
      },
      "execution_count": null,
      "outputs": [
        {
          "output_type": "stream",
          "name": "stdout",
          "text": [
            "Weekly data as a supervised learning dataset:\n",
            "    var 1(t-10)  var 1(t-9)  var 1(t-8)  var 1(t-7)  var 1(t-6)  var 1(t-5)  \\\n",
            "10   456.905426  455.562439  429.349335  433.241119  439.858124  431.780457   \n",
            "11   455.562439  429.349335  433.241119  439.858124  431.780457  425.673248   \n",
            "12   429.349335  433.241119  439.858124  431.780457  425.673248  429.123871   \n",
            "13   433.241119  439.858124  431.780457  425.673248  429.123871  423.653809   \n",
            "14   439.858124  431.780457  425.673248  429.123871  423.653809  411.792267   \n",
            "15   431.780457  425.673248  429.123871  423.653809  411.792267  435.760437   \n",
            "16   425.673248  429.123871  423.653809  411.792267  435.760437  445.148071   \n",
            "17   429.123871  423.653809  411.792267  435.760437  445.148071  445.374268   \n",
            "18   423.653809  411.792267  435.760437  445.148071  445.374268  440.113403   \n",
            "19   411.792267  435.760437  445.148071  445.374268  440.113403  430.496307   \n",
            "20   435.760437  445.148071  445.374268  440.113403  430.496307  418.942078   \n",
            "21   445.148071  445.374268  440.113403  430.496307  418.942078  405.135986   \n",
            "22   445.374268  440.113403  430.496307  418.942078  405.135986  404.486969   \n",
            "23   440.113403  430.496307  418.942078  405.135986  404.486969  395.027252   \n",
            "24   430.496307  418.942078  405.135986  404.486969  395.027252  383.138702   \n",
            "25   418.942078  405.135986  404.486969  395.027252  383.138702  408.341675   \n",
            "26   405.135986  404.486969  395.027252  383.138702  408.341675  403.700287   \n",
            "27   404.486969  395.027252  383.138702  408.341675  403.700287  383.305847   \n",
            "28   395.027252  383.138702  408.341675  403.700287  383.305847  359.764679   \n",
            "29   383.138702  408.341675  403.700287  383.305847  359.764679  385.238129   \n",
            "30   408.341675  403.700287  383.305847  359.764679  385.238129  376.507874   \n",
            "31   403.700287  383.305847  359.764679  385.238129  376.507874  383.845642   \n",
            "32   383.305847  359.764679  385.238129  376.507874  383.845642  380.349609   \n",
            "33   359.764679  385.238129  376.507874  383.845642  380.349609  390.185944   \n",
            "34   385.238129  376.507874  383.845642  380.349609  390.185944  406.876160   \n",
            "35   376.507874  383.845642  380.349609  390.185944  406.876160  408.337799   \n",
            "36   383.845642  380.349609  390.185944  406.876160  408.337799  421.798645   \n",
            "37   380.349609  390.185944  406.876160  408.337799  421.798645  416.900238   \n",
            "38   390.185944  406.876160  408.337799  421.798645  416.900238  400.279083   \n",
            "39   406.876160  408.337799  421.798645  416.900238  400.279083  387.371338   \n",
            "40   408.337799  421.798645  416.900238  400.279083  387.371338  401.553101   \n",
            "41   421.798645  416.900238  400.279083  387.371338  401.553101  380.774261   \n",
            "42   416.900238  400.279083  387.371338  401.553101  380.774261  364.875549   \n",
            "43   400.279083  387.371338  401.553101  380.774261  364.875549  354.195526   \n",
            "44   387.371338  401.553101  380.774261  364.875549  354.195526  359.758667   \n",
            "45   401.553101  380.774261  364.875549  354.195526  359.758667  354.641785   \n",
            "46   380.774261  364.875549  354.195526  359.758667  354.641785  371.162598   \n",
            "47   364.875549  354.195526  359.758667  354.641785  371.162598  385.769470   \n",
            "48   354.195526  359.758667  354.641785  371.162598  385.769470  373.205353   \n",
            "49   359.758667  354.641785  371.162598  385.769470  373.205353  395.180206   \n",
            "50   354.641785  371.162598  385.769470  373.205353  395.180206  392.720917   \n",
            "51   371.162598  385.769470  373.205353  395.180206  392.720917  398.968262   \n",
            "52   385.769470  373.205353  395.180206  392.720917  398.968262  403.510010   \n",
            "53   373.205353  395.180206  392.720917  398.968262  403.510010  389.993896   \n",
            "54   395.180206  392.720917  398.968262  403.510010  389.993896  380.067535   \n",
            "55   392.720917  398.968262  403.510010  389.993896  380.067535  381.454193   \n",
            "56   398.968262  403.510010  389.993896  380.067535  381.454193  380.975983   \n",
            "57   403.510010  389.993896  380.067535  381.454193  380.975983  386.604492   \n",
            "58   389.993896  380.067535  381.454193  380.975983  386.604492  396.984894   \n",
            "59   380.067535  381.454193  380.975983  386.604492  396.984894  394.374878   \n",
            "60   381.454193  380.975983  386.604492  396.984894  394.374878  404.137604   \n",
            "61   380.975983  386.604492  396.984894  394.374878  404.137604  410.782257   \n",
            "62   386.604492  396.984894  394.374878  404.137604  410.782257  406.488647   \n",
            "63   396.984894  394.374878  404.137604  410.782257  406.488647  405.711609   \n",
            "64   394.374878  404.137604  410.782257  406.488647  405.711609  394.872955   \n",
            "65   404.137604  410.782257  406.488647  405.711609  394.872955  402.653259   \n",
            "\n",
            "    var 1(t-4)  var 1(t-3)  var 1(t-2)  var 1(t-1)     var1(t)  \n",
            "10  425.673248  429.123871  423.653809  411.792267  435.760437  \n",
            "11  429.123871  423.653809  411.792267  435.760437  445.148071  \n",
            "12  423.653809  411.792267  435.760437  445.148071  445.374268  \n",
            "13  411.792267  435.760437  445.148071  445.374268  440.113403  \n",
            "14  435.760437  445.148071  445.374268  440.113403  430.496307  \n",
            "15  445.148071  445.374268  440.113403  430.496307  418.942078  \n",
            "16  445.374268  440.113403  430.496307  418.942078  405.135986  \n",
            "17  440.113403  430.496307  418.942078  405.135986  404.486969  \n",
            "18  430.496307  418.942078  405.135986  404.486969  395.027252  \n",
            "19  418.942078  405.135986  404.486969  395.027252  383.138702  \n",
            "20  405.135986  404.486969  395.027252  383.138702  408.341675  \n",
            "21  404.486969  395.027252  383.138702  408.341675  403.700287  \n",
            "22  395.027252  383.138702  408.341675  403.700287  383.305847  \n",
            "23  383.138702  408.341675  403.700287  383.305847  359.764679  \n",
            "24  408.341675  403.700287  383.305847  359.764679  385.238129  \n",
            "25  403.700287  383.305847  359.764679  385.238129  376.507874  \n",
            "26  383.305847  359.764679  385.238129  376.507874  383.845642  \n",
            "27  359.764679  385.238129  376.507874  383.845642  380.349609  \n",
            "28  385.238129  376.507874  383.845642  380.349609  390.185944  \n",
            "29  376.507874  383.845642  380.349609  390.185944  406.876160  \n",
            "30  383.845642  380.349609  390.185944  406.876160  408.337799  \n",
            "31  380.349609  390.185944  406.876160  408.337799  421.798645  \n",
            "32  390.185944  406.876160  408.337799  421.798645  416.900238  \n",
            "33  406.876160  408.337799  421.798645  416.900238  400.279083  \n",
            "34  408.337799  421.798645  416.900238  400.279083  387.371338  \n",
            "35  421.798645  416.900238  400.279083  387.371338  401.553101  \n",
            "36  416.900238  400.279083  387.371338  401.553101  380.774261  \n",
            "37  400.279083  387.371338  401.553101  380.774261  364.875549  \n",
            "38  387.371338  401.553101  380.774261  364.875549  354.195526  \n",
            "39  401.553101  380.774261  364.875549  354.195526  359.758667  \n",
            "40  380.774261  364.875549  354.195526  359.758667  354.641785  \n",
            "41  364.875549  354.195526  359.758667  354.641785  371.162598  \n",
            "42  354.195526  359.758667  354.641785  371.162598  385.769470  \n",
            "43  359.758667  354.641785  371.162598  385.769470  373.205353  \n",
            "44  354.641785  371.162598  385.769470  373.205353  395.180206  \n",
            "45  371.162598  385.769470  373.205353  395.180206  392.720917  \n",
            "46  385.769470  373.205353  395.180206  392.720917  398.968262  \n",
            "47  373.205353  395.180206  392.720917  398.968262  403.510010  \n",
            "48  395.180206  392.720917  398.968262  403.510010  389.993896  \n",
            "49  392.720917  398.968262  403.510010  389.993896  380.067535  \n",
            "50  398.968262  403.510010  389.993896  380.067535  381.454193  \n",
            "51  403.510010  389.993896  380.067535  381.454193  380.975983  \n",
            "52  389.993896  380.067535  381.454193  380.975983  386.604492  \n",
            "53  380.067535  381.454193  380.975983  386.604492  396.984894  \n",
            "54  381.454193  380.975983  386.604492  396.984894  394.374878  \n",
            "55  380.975983  386.604492  396.984894  394.374878  404.137604  \n",
            "56  386.604492  396.984894  394.374878  404.137604  410.782257  \n",
            "57  396.984894  394.374878  404.137604  410.782257  406.488647  \n",
            "58  394.374878  404.137604  410.782257  406.488647  405.711609  \n",
            "59  404.137604  410.782257  406.488647  405.711609  394.872955  \n",
            "60  410.782257  406.488647  405.711609  394.872955  402.653259  \n",
            "61  406.488647  405.711609  394.872955  402.653259  384.442780  \n",
            "62  405.711609  394.872955  402.653259  384.442780  388.507233  \n",
            "63  394.872955  402.653259  384.442780  388.507233  395.750000  \n",
            "64  402.653259  384.442780  388.507233  395.750000  409.390015  \n",
            "65  384.442780  388.507233  395.750000  409.390015  409.190002  \n",
            " \n",
            "Daily data as a supervised learning dataset:\n",
            "     var 1(t-10)  var 1(t-9)  var 1(t-8)  var 1(t-7)  var 1(t-6)  var 1(t-5)  \\\n",
            "10    468.296417  468.139587  459.150269  458.718933  456.905426  456.336884   \n",
            "11    468.139587  459.150269  458.718933  456.905426  456.336884  460.493286   \n",
            "12    459.150269  458.718933  456.905426  456.336884  460.493286  461.738220   \n",
            "13    458.718933  456.905426  456.336884  460.493286  461.738220  455.376129   \n",
            "14    456.905426  456.336884  460.493286  461.738220  455.376129  455.562378   \n",
            "..           ...         ...         ...         ...         ...         ...   \n",
            "312   389.989990  393.739990  398.910004  392.109985  393.170013  395.750000   \n",
            "313   393.739990  398.910004  392.109985  393.170013  395.750000  396.489990   \n",
            "314   398.910004  392.109985  393.170013  395.750000  396.489990  395.600006   \n",
            "315   392.109985  393.170013  395.750000  396.489990  395.600006  401.350006   \n",
            "316   393.170013  395.750000  396.489990  395.600006  401.350006  403.700012   \n",
            "\n",
            "     var 1(t-4)  var 1(t-3)  var 1(t-2)  var 1(t-1)     var1(t)  \n",
            "10   460.493286  461.738220  455.376129  455.562378  447.494568  \n",
            "11   461.738220  455.376129  455.562378  447.494568  442.847992  \n",
            "12   455.376129  455.562378  447.494568  442.847992  437.946503  \n",
            "13   455.562378  447.494568  442.847992  437.946503  429.349335  \n",
            "14   447.494568  442.847992  437.946503  429.349335  431.172668  \n",
            "..          ...         ...         ...         ...         ...  \n",
            "312  396.489990  395.600006  401.350006  403.700012  409.390015  \n",
            "313  395.600006  401.350006  403.700012  409.390015  410.950012  \n",
            "314  401.350006  403.700012  409.390015  410.950012  408.670013  \n",
            "315  403.700012  409.390015  410.950012  408.670013  407.600006  \n",
            "316  409.390015  410.950012  408.670013  407.600006  409.190002  \n",
            "\n",
            "[307 rows x 11 columns]\n",
            " \n",
            "Hourly data as a supervised learning dataset:\n",
            "      var 1(t-10)  var 1(t-9)  var 1(t-8)  var 1(t-7)  var 1(t-6)  var 1(t-5)  \\\n",
            "10     476.750000  475.529999  475.929993  476.060089  476.920013  477.390106   \n",
            "11     475.529999  475.929993  476.060089  476.920013  477.390106  477.760010   \n",
            "12     475.929993  476.060089  476.920013  477.390106  477.760010  479.589996   \n",
            "13     476.060089  476.920013  477.390106  477.760010  479.589996  476.968597   \n",
            "14     476.920013  477.390106  477.760010  479.589996  476.968597  477.540009   \n",
            "...           ...         ...         ...         ...         ...         ...   \n",
            "2208   408.709991  407.279907  406.567993  406.170013  406.875000  407.089996   \n",
            "2209   407.279907  406.567993  406.170013  406.875000  407.089996  407.209991   \n",
            "2210   406.567993  406.170013  406.875000  407.089996  407.209991  407.649994   \n",
            "2211   406.170013  406.875000  407.089996  407.209991  407.649994  406.839996   \n",
            "2212   406.875000  407.089996  407.209991  407.649994  406.839996  407.160004   \n",
            "\n",
            "      var 1(t-4)  var 1(t-3)  var 1(t-2)  var 1(t-1)     var1(t)  \n",
            "10    477.760010  479.589996  476.968597  477.540009  476.769989  \n",
            "11    479.589996  476.968597  477.540009  476.769989  476.549988  \n",
            "12    476.968597  477.540009  476.769989  476.549988  478.250000  \n",
            "13    477.540009  476.769989  476.549988  478.250000  477.500000  \n",
            "14    476.769989  476.549988  478.250000  477.500000  477.739990  \n",
            "...          ...         ...         ...         ...         ...  \n",
            "2208  407.209991  407.649994  406.839996  407.160004  408.464996  \n",
            "2209  407.649994  406.839996  407.160004  408.464996  408.999908  \n",
            "2210  406.839996  407.160004  408.464996  408.999908  409.279999  \n",
            "2211  407.160004  408.464996  408.999908  409.279999  408.888000  \n",
            "2212  408.464996  408.999908  409.279999  408.888000  409.200012  \n",
            "\n",
            "[2203 rows x 11 columns]\n"
          ]
        }
      ]
    },
    {
      "cell_type": "markdown",
      "source": [
        ".\n",
        "\n",
        ".\n",
        "\n",
        "."
      ],
      "metadata": {
        "id": "H_WZ7JkVOj5C"
      }
    },
    {
      "cell_type": "markdown",
      "source": [
        "# **MODELS**"
      ],
      "metadata": {
        "id": "0kt1F6w2T3Sb"
      }
    },
    {
      "cell_type": "markdown",
      "source": [
        "**Model 1 (Baseline Model): Support Vector Machines (SVM)**"
      ],
      "metadata": {
        "id": "_-9u4Jftvogh"
      }
    },
    {
      "cell_type": "code",
      "source": [
        "# Brendan Abbott\n",
        "# Model 2: Support Vector Machines/SVM\n",
        "# Import necessary packages to the jupyter notebook\n",
        "from sklearn.svm import SVR\n",
        "from sklearn.preprocessing import StandardScaler\n",
        "import yfinance as yf\n",
        "import pandas as pd\n",
        "import numpy as np\n",
        "import matplotlib.pyplot as plt\n",
        "import seaborn as sns\n",
        "from sklearn.linear_model import SGDRegressor\n",
        "from sklearn.metrics import mean_squared_error, r2_score\n",
        "from sklearn.preprocessing import StandardScaler\n",
        "from sklearn.preprocessing import MinMaxScaler\n",
        "from sklearn.model_selection import train_test_split\n",
        "from sklearn.metrics import mean_squared_error\n",
        "from sklearn.metrics import r2_score\n",
        "from sklearn.metrics import accuracy_score\n",
        "from sklearn.model_selection import train_test_split\n",
        "\n",
        "\n",
        "\n",
        "\n",
        "\n",
        "#SPY WEEKLY SVM\n",
        "####################\n",
        "##################\n",
        "################\n",
        "##############\n",
        "############\n",
        "##########\n",
        "########\n",
        "######\n",
        "####\n",
        "##\n",
        "#\n",
        "\n",
        "\n",
        "\n",
        "# scaling Weekly data with StandardScaler()\n",
        "mm_scaler_weekly = StandardScaler().fit_transform(spy_weekly_sts)\n",
        "print(\"Weekly data Scaled: \")\n",
        "\n",
        "# linear regression coefficients using Normal Equation Method\n",
        "\n",
        "# Weekly\n",
        "# splitting data into a matrix X and a vector Y\n",
        "X_weekly = mm_scaler_weekly[:,0:10]\n",
        "Y_weekly = mm_scaler_weekly[:,10]\n",
        "\n",
        "# Add bias vector of ones as the first column\n",
        "X_weekly = np.column_stack((np.ones(X_weekly.shape[0]), X_weekly))\n",
        "\n",
        "# splitting data into training and test sets\n",
        "X_train_weekly, X_test_weekly, Y_train_weekly, Y_test_weekly = train_test_split(X_weekly, Y_weekly, test_size=0.3, random_state=1)\n",
        "\n",
        "# Train the SVM model\n",
        "svr = SVR(kernel='linear')\n",
        "svr.fit(X_train_weekly, Y_train_weekly)\n",
        "\n",
        "# Test the SVM model\n",
        "y_pred = svr.predict(X_test_weekly)\n",
        "mse = mean_squared_error(Y_test_weekly, y_pred)\n",
        "r2 = r2_score(Y_test_weekly, y_pred)\n",
        "print('Results for SPY Weekly')\n",
        "print(\"Mean squared error for: %.2f\" % mse)\n",
        "print(\"Coefficient of determination (R2 score): %.2f\" % r2)\n",
        "print(\"\")\n",
        "\n",
        "\n",
        "##########################\n",
        "\n",
        "\n",
        "#SPY DAILY SVM\n",
        "####################\n",
        "##################\n",
        "################\n",
        "##############\n",
        "############\n",
        "##########\n",
        "########\n",
        "######\n",
        "####\n",
        "##\n",
        "#\n",
        "\n",
        "\n",
        "# scaling Weekly data with StandardScaler()\n",
        "mm_scaler_daily = StandardScaler().fit_transform(spy_daily_sts)\n",
        "print(\"Weekly data Scaled: \")\n",
        "\n",
        "# linear regression coefficients using Normal Equation Method\n",
        "\n",
        "# Weekly\n",
        "# splitting data into a matrix X and a vector Y\n",
        "X_daily = mm_scaler_daily[:,0:10]\n",
        "Y_daily = mm_scaler_daily[:,10]\n",
        "\n",
        "# Add bias vector of ones as the first column\n",
        "X_daily = np.column_stack((np.ones(X_daily.shape[0]), X_daily))\n",
        "\n",
        "# splitting data into training and test sets\n",
        "X_train_daily, X_test_daily, Y_train_daily, Y_test_daily = train_test_split(X_daily, Y_daily, test_size=0.3, random_state=1)\n",
        "\n",
        "# Train the SVM model\n",
        "svr = SVR(kernel='linear')\n",
        "svr.fit(X_train_daily, Y_train_daily)\n",
        "\n",
        "# Test the SVM model\n",
        "y_pred = svr.predict(X_test_daily)\n",
        "mse = mean_squared_error(Y_test_daily, y_pred)\n",
        "r2 = r2_score(Y_test_daily, y_pred)\n",
        "print('Results for SPY Daily')\n",
        "print(\"Mean squared error for: %.2f\" % mse)\n",
        "print(\"Coefficient of determination (R2 score): %.2f\" % r2)\n",
        "print(\"\")\n",
        "\n",
        "\n",
        "\n",
        "#SPY HOURLY SVM\n",
        "####################\n",
        "##################\n",
        "################\n",
        "##############\n",
        "############\n",
        "##########\n",
        "########\n",
        "######\n",
        "####\n",
        "##\n",
        "#\n",
        "\n",
        "\n",
        "# scaling Weekly data with StandardScaler()\n",
        "mm_scaler_hourly = StandardScaler().fit_transform(spy_hourly_sts)\n",
        "print(\"Weekly data Scaled: \")\n",
        "\n",
        "# linear regression coefficients using Normal Equation Method\n",
        "\n",
        "# Weekly\n",
        "# splitting data into a matrix X and a vector Y\n",
        "X_hourly = mm_scaler_hourly[:,0:10]\n",
        "Y_hourly = mm_scaler_hourly[:,10]\n",
        "\n",
        "# Add bias vector of ones as the first column\n",
        "X_hourly = np.column_stack((np.ones(X_hourly.shape[0]), X_hourly))\n",
        "\n",
        "# splitting data into training and test sets\n",
        "X_train_hourly, X_test_hourly, Y_train_hourly, Y_test_hourly = train_test_split(X_hourly, Y_hourly, test_size=0.3, random_state=1)\n",
        "\n",
        "# Train the SVM model\n",
        "svr = SVR(kernel='linear')\n",
        "svr.fit(X_train_hourly, Y_train_hourly)\n",
        "\n",
        "# Test the SVM model\n",
        "y_pred = svr.predict(X_test_hourly)\n",
        "mse = mean_squared_error(Y_test_hourly, y_pred)\n",
        "r2 = r2_score(Y_test_hourly, y_pred)\n",
        "print('Results for SPY Hourly')\n",
        "print(\"Mean squared error for: %.2f\" % mse)\n",
        "print(\"Coefficient of determination (R2 score): %.2f\" % r2)\n",
        "print(\"\")\n",
        "\n"
      ],
      "metadata": {
        "id": "w3GPR3b3VO67",
        "colab": {
          "base_uri": "https://localhost:8080/"
        },
        "outputId": "b5ed3c0d-0076-40fa-d792-962626a9de52"
      },
      "execution_count": null,
      "outputs": [
        {
          "output_type": "stream",
          "name": "stdout",
          "text": [
            "Weekly data Scaled: \n",
            "Results for SPY Weekly\n",
            "Mean squared error for: 0.41\n",
            "Coefficient of determination (R2 score): 0.55\n",
            "\n",
            "Weekly data Scaled: \n",
            "Results for SPY Daily\n",
            "Mean squared error for: 0.06\n",
            "Coefficient of determination (R2 score): 0.94\n",
            "\n",
            "Weekly data Scaled: \n",
            "Results for SPY Hourly\n",
            "Mean squared error for: 0.01\n",
            "Coefficient of determination (R2 score): 0.99\n",
            "\n"
          ]
        }
      ]
    },
    {
      "cell_type": "markdown",
      "source": [
        "For our base model support vector machine. Our goal is to determine what the adjusted close price will be based on our inputs of \"Open\", \"High\", \"Low\", and \"Volume\". As we can see from the results, our mean squared error significantly decreases between Weekly, Daily, and Hourly. It actually improves the less time between adjusted closed. We believe this is due to the high randomness and volatility that is present within market conditions from day to day, and week to week."
      ],
      "metadata": {
        "id": "1pVXLcnC-X9F"
      }
    },
    {
      "cell_type": "markdown",
      "source": [
        "."
      ],
      "metadata": {
        "id": "_icHY3qhWonH"
      }
    },
    {
      "cell_type": "markdown",
      "source": [
        "**Model 2: Gradient Descent Method**"
      ],
      "metadata": {
        "id": "WtvPtJp3WjeN"
      }
    },
    {
      "cell_type": "code",
      "source": [
        "# Brendan Abbott\n",
        "# Baseline Model: Gradient Descent Method\n",
        "\n",
        "\n",
        "# Import necessary packages to the jupyter notebook\n",
        "import yfinance as yf\n",
        "import pandas as pd\n",
        "import numpy as np\n",
        "import matplotlib.pyplot as plt\n",
        "import seaborn as sns\n",
        "from sklearn.linear_model import SGDRegressor\n",
        "from sklearn.metrics import mean_squared_error, r2_score\n",
        "from sklearn.preprocessing import StandardScaler\n",
        "from sklearn.preprocessing import MinMaxScaler\n",
        "from sklearn.model_selection import train_test_split\n",
        "from sklearn.metrics import mean_squared_error\n",
        "from sklearn.metrics import r2_score\n",
        "from sklearn.metrics import accuracy_score\n",
        "from sklearn.model_selection import train_test_split\n",
        "\n",
        "\n",
        "\n",
        "#implementing series_to_supervised to weekly data\n",
        "spy_weekly_sts = series_to_supervised(values_weekly, 10)\n",
        "# print(\"Weekly data as a supervised learning dataset:\")\n",
        "# print(spy_weekly_sts)\n",
        "# print(\" \")\n",
        "\n",
        "#SPY WEEKLY GRADIENT DESCENT LINEAR REGRESSION\n",
        "####################\n",
        "##################\n",
        "################\n",
        "##############\n",
        "############\n",
        "##########\n",
        "########\n",
        "######\n",
        "####\n",
        "##\n",
        "#\n",
        "\n",
        "\n",
        "\n",
        "\n",
        "def predict(X, coef):\n",
        "    \"\"\"Return the predicted target variable given input features and coefficients.\"\"\"\n",
        "    return np.dot(X, coef)\n",
        "\n",
        "def coefficients_sgd(X, y, learning_rate=0.01, n_epochs=1000):\n",
        "    \"\"\"Return the coefficients for linear regression using the gradient descent algorithm.\"\"\"\n",
        "    # Add bias column to input data\n",
        "    X = np.insert(X, 0, 1, axis=1)\n",
        "    # Initialize coefficients to zero\n",
        "    coef = np.zeros(X.shape[1])\n",
        "    # Loop over epochs\n",
        "    for epoch in range(n_epochs):\n",
        "        # Loop over training examples\n",
        "        for i in range(X.shape[0]):\n",
        "            # Compute predicted target variable\n",
        "            y_pred = predict(X[i], coef)\n",
        "            # Compute error between predicted and actual target variable\n",
        "            error = y_pred - y[i]\n",
        "            # Update bias term\n",
        "            coef[0] -= learning_rate * error\n",
        "            # Update remaining coefficients\n",
        "            coef[1:] -= learning_rate * error * X[i][1:]\n",
        "    return coef[1:], coef[0]\n",
        "\n",
        "\n",
        "mm_scaler_weekly = StandardScaler().fit_transform(spy_weekly_sts)\n",
        "print(\"Weekly data Scaled: \")\n",
        "\n",
        "#splitting data into a matrix X and a vector Y\n",
        "X_weekly = mm_scaler_weekly[:,0:10]\n",
        "Y_weekly = mm_scaler_weekly[:,10]\n",
        "\n",
        "# Add bias vector of ones as the first column\n",
        "X_weekly = np.column_stack((np.ones(X_weekly.shape[0]), X_weekly))\n",
        "\n",
        "# #drop the bias column from the X matrix\n",
        "X_weekly = list(map(lambda x: x[1:], X_weekly))\n",
        "X_weekly = np.asarray(X_weekly)\n",
        "\n",
        "\n",
        "# remove the bias column from X_weekly\n",
        "X_weekly = X_weekly[:, 1:]\n",
        "\n",
        "X_train_weekly, X_test_weekly, Y_train_weekly, Y_test_weekly = train_test_split(X_weekly, Y_weekly, test_size=0.3, random_state=1)\n",
        "\n",
        "\n",
        "# Example usage:\n",
        "# Assume we have training data X_train and y_train\n",
        "coef, bias = coefficients_sgd(X_train_weekly, Y_train_weekly)\n",
        "y_pred = predict(X_test_weekly, coef)\n",
        "mse = mean_squared_error(Y_test_weekly, y_pred)\n",
        "r2 = r2_score(Y_test_weekly, y_pred)\n",
        "\n",
        "\n",
        "\n",
        "print('Coefficient Predictions')\n",
        "print(y_pred)\n",
        "print('')\n",
        "print('Mean Squared Error:')\n",
        "print(mse)\n",
        "print('')\n",
        "print('R2 Score')\n",
        "print(r2)\n",
        "print('')\n",
        "\n",
        "\n",
        "#SPY DAILY GRADIENT DESCENT LINEAR REGRESSION\n",
        "####################\n",
        "##################\n",
        "################\n",
        "##############\n",
        "############\n",
        "##########\n",
        "########\n",
        "######\n",
        "####\n",
        "##\n",
        "#\n",
        "\n",
        "\n",
        "def predict(X, coef):\n",
        "    \"\"\"Return the predicted target variable given input features and coefficients.\"\"\"\n",
        "    return np.dot(X, coef)\n",
        "\n",
        "def coefficients_sgd(X, y, learning_rate=0.01, n_epochs=1000):\n",
        "    \"\"\"Return the coefficients for linear regression using the gradient descent algorithm.\"\"\"\n",
        "    # Add bias column to input data\n",
        "    X = np.insert(X, 0, 1, axis=1)\n",
        "    # Initialize coefficients to zero\n",
        "    coef = np.zeros(X.shape[1])\n",
        "    # Loop over epochs\n",
        "    for epoch in range(n_epochs):\n",
        "        # Loop over training examples\n",
        "        for i in range(X.shape[0]):\n",
        "            # Compute predicted target variable\n",
        "            y_pred = predict(X[i], coef)\n",
        "            # Compute error between predicted and actual target variable\n",
        "            error = y_pred - y[i]\n",
        "            # Update bias term\n",
        "            coef[0] -= learning_rate * error\n",
        "            # Update remaining coefficients\n",
        "            coef[1:] -= learning_rate * error * X[i][1:]\n",
        "    return coef[1:], coef[0]\n",
        "\n",
        "\n",
        "mm_scaler_daily = StandardScaler().fit_transform(spy_daily_sts)\n",
        "print(\"Daily data Scaled: \")\n",
        "\n",
        "#splitting data into a matrix X and a vector Y\n",
        "X_daily = mm_scaler_daily[:,0:10]\n",
        "Y_daily = mm_scaler_daily[:,10]\n",
        "\n",
        "# Add bias vector of ones as the first column\n",
        "X_daily = np.column_stack((np.ones(X_daily.shape[0]), X_daily))\n",
        "\n",
        "# #drop the bias column from the X matrix\n",
        "X_daily = list(map(lambda x: x[1:], X_daily))\n",
        "X_daily = np.asarray(X_daily)\n",
        "\n",
        "\n",
        "# remove the bias column from X_daily\n",
        "X_daily = X_daily[:, 1:]\n",
        "\n",
        "X_train_daily, X_test_daily, Y_train_daily, Y_test_daily = train_test_split(X_daily, Y_daily, test_size=0.3, random_state=1)\n",
        "\n",
        "\n",
        "# Example usage:\n",
        "# Assume we have training data X_train and y_train\n",
        "coef, bias = coefficients_sgd(X_train_daily, Y_train_daily)\n",
        "y_pred = predict(X_test_daily, coef)\n",
        "mse = mean_squared_error(Y_test_daily, y_pred)\n",
        "r2 = r2_score(Y_test_daily, y_pred)\n",
        "\n",
        "\n",
        "\n",
        "print('Coefficient Predictions')\n",
        "print(y_pred)\n",
        "print('')\n",
        "print('Mean Squared Error:')\n",
        "print(mse)\n",
        "print('')\n",
        "print('R2 Score')\n",
        "print(r2)\n",
        "print('')\n",
        "\n",
        "\n",
        "#SPY HOURLY GRADIENT DESCENT LINEAR REGRESSION\n",
        "####################\n",
        "##################\n",
        "################\n",
        "##############\n",
        "############\n",
        "##########\n",
        "########\n",
        "######\n",
        "####\n",
        "##\n",
        "#\n",
        "\n",
        "\n",
        "def predict(X, coef):\n",
        "    \"\"\"Return the predicted target variable given input features and coefficients.\"\"\"\n",
        "    return np.dot(X, coef)\n",
        "\n",
        "def coefficients_sgd(X, y, learning_rate=0.01, n_epochs=1000):\n",
        "    \"\"\"Return the coefficients for linear regression using the gradient descent algorithm.\"\"\"\n",
        "    # Add bias column to input data\n",
        "    X = np.insert(X, 0, 1, axis=1)\n",
        "    # Initialize coefficients to zero\n",
        "    coef = np.zeros(X.shape[1])\n",
        "    # Loop over epochs\n",
        "    for epoch in range(n_epochs):\n",
        "        # Loop over training examples\n",
        "        for i in range(X.shape[0]):\n",
        "            # Compute predicted target variable\n",
        "            y_pred = predict(X[i], coef)\n",
        "            # Compute error between predicted and actual target variable\n",
        "            error = y_pred - y[i]\n",
        "            # Update bias term\n",
        "            coef[0] -= learning_rate * error\n",
        "            # Update remaining coefficients\n",
        "            coef[1:] -= learning_rate * error * X[i][1:]\n",
        "    return coef[1:], coef[0]\n",
        "\n",
        "\n",
        "mm_scaler_hourly = StandardScaler().fit_transform(spy_hourly_sts)\n",
        "print(\"Hourly data Scaled: \")\n",
        "\n",
        "#splitting data into a matrix X and a vector Y\n",
        "X_hourly = mm_scaler_hourly[:,0:10]\n",
        "Y_hourly = mm_scaler_hourly[:,10]\n",
        "\n",
        "# Add bias vector of ones as the first column\n",
        "X_hourly = np.column_stack((np.ones(X_hourly.shape[0]), X_hourly))\n",
        "\n",
        "# #drop the bias column from the X matrix\n",
        "X_hourly = list(map(lambda x: x[1:], X_hourly))\n",
        "X_hourly = np.asarray(X_hourly)\n",
        "\n",
        "\n",
        "# remove the bias column from X_daily\n",
        "X_hourly = X_hourly[:, 1:]\n",
        "\n",
        "X_train_hourly, X_test_hourly, Y_train_hourly, Y_test_hourly = train_test_split(X_hourly, Y_hourly, test_size=0.3, random_state=1)\n",
        "\n",
        "\n",
        "# Example usage:\n",
        "# Assume we have training data X_train and y_train\n",
        "coef, bias = coefficients_sgd(X_train_hourly, Y_train_hourly)\n",
        "y_pred = predict(X_test_hourly, coef)\n",
        "mse = mean_squared_error(Y_test_hourly, y_pred)\n",
        "r2 = r2_score(Y_test_hourly, y_pred)\n",
        "\n",
        "\n",
        "\n",
        "print('Coefficient Predictions')\n",
        "print(y_pred)\n",
        "print('')\n",
        "print('Mean Squared Error:')\n",
        "print(mse)\n",
        "print('')\n",
        "print('R2 Score')\n",
        "print(r2)\n",
        "print('')"
      ],
      "metadata": {
        "id": "psyW2_AAUTxd",
        "colab": {
          "base_uri": "https://localhost:8080/"
        },
        "outputId": "9781e47f-08b3-47a1-e9c0-8f211f15c9cc"
      },
      "execution_count": null,
      "outputs": [
        {
          "output_type": "stream",
          "name": "stdout",
          "text": [
            "Weekly data Scaled: \n",
            "Coefficient Predictions\n",
            "[ 0.07494541  1.59235758  0.57547131 -0.72440672 -0.74530576 -0.52034532\n",
            "  0.27423585 -0.60958991  0.66595432 -1.07211211  0.31718553  0.91227195\n",
            "  1.11192721 -0.18102416 -0.86036964  1.75541015 -0.06166851]\n",
            "\n",
            "Mean Squared Error:\n",
            "0.4965022235362249\n",
            "\n",
            "R2 Score\n",
            "0.45683208293699673\n",
            "\n",
            "Daily data Scaled: \n",
            "Coefficient Predictions\n",
            "[-0.57858558  1.50346932  0.17472032  0.31334949 -1.63028938  1.15485276\n",
            "  0.31471002 -0.874198   -0.23136407  0.47055888  0.49045939 -1.43653966\n",
            "  0.25395765 -0.81888958 -0.16331303 -0.44485431 -0.7020784  -0.68588968\n",
            " -0.01775213  1.55420284 -0.3623193   1.75170797 -1.08416919 -1.30351129\n",
            "  0.85494766  2.02778254 -1.78826485 -0.52423768 -1.40380675  1.92379163\n",
            " -1.09902973  0.61511832 -0.2960129   1.04947533 -0.4693373  -1.69982791\n",
            "  0.38370051  0.1148815  -0.12108281  0.42695748 -0.27996943 -1.91050892\n",
            "  0.07193256 -0.4123062  -0.74678487 -0.83706513 -0.29141753  0.20333957\n",
            "  0.960475    0.40954468 -0.476697    0.22582598 -0.56269256  1.23176708\n",
            " -0.38441127  1.53663856 -0.27443599 -0.2752357   2.08953376 -0.14605569\n",
            " -0.37085858  0.16785955  1.12065946 -0.87558913 -0.15247083  0.01687982\n",
            " -0.45938257 -0.81641892 -1.11064826 -1.01335103 -0.03279195  0.30045328\n",
            " -0.72490906  0.32518359 -1.1542457  -0.73022363  1.80852901 -1.38389576\n",
            "  0.27979066 -0.77943636  1.28979813 -0.23935944 -0.33559649 -0.4951814\n",
            "  1.0021005  -0.53814591  0.30898874 -1.12064156 -1.68379438  0.66710951\n",
            " -0.86927781  0.22853419  0.34317381]\n",
            "\n",
            "Mean Squared Error:\n",
            "0.0740557564034226\n",
            "\n",
            "R2 Score\n",
            "0.9257700140067912\n",
            "\n",
            "Hourly data Scaled: \n",
            "Coefficient Predictions\n",
            "[ 1.45497914e+00  1.32042987e-01  5.48038131e-01  1.93596409e+00\n",
            " -2.70081782e-02 -6.92555730e-01  1.87475589e+00 -1.08466131e+00\n",
            "  1.15430456e+00  1.08773164e+00 -3.60689711e-01 -8.06412097e-01\n",
            "  1.93368036e+00 -3.34706054e-01 -5.33043550e-01  3.00058251e-02\n",
            " -1.54758512e-01 -7.76105453e-02 -1.53464693e+00 -3.50688968e-01\n",
            " -6.86547126e-01  2.30006276e-01 -2.94857571e-01  8.14157751e-01\n",
            " -5.89483664e-01 -1.35114578e+00  5.94356769e-01 -9.31131567e-01\n",
            "  8.07756258e-01  1.64008248e+00 -4.02574058e-02 -6.19671355e-01\n",
            " -8.24289458e-01 -1.19544933e+00 -3.35655803e-01 -6.98084214e-01\n",
            " -7.72049461e-01  1.62813825e+00  7.47818382e-01 -6.88284436e-01\n",
            " -1.00239008e+00  1.46454890e+00 -1.46601343e+00  2.96905107e-01\n",
            " -7.26419485e-01  9.03158717e-01 -3.01095124e-01 -1.13300391e+00\n",
            " -7.92730671e-01  1.59009318e-01 -4.34814422e-01 -5.05538559e-01\n",
            " -5.99607665e-01 -4.80240475e-01  1.20960538e+00 -2.06968200e-01\n",
            "  2.20160940e-01 -4.55232939e-01 -1.56316029e+00  1.27279167e-01\n",
            " -6.60263377e-01  3.92565967e-01  1.60833679e+00 -1.19636215e+00\n",
            " -2.79538841e-01 -1.23842337e+00 -6.22217896e-03 -1.11094668e+00\n",
            " -3.95289970e-01  4.13153797e-01  1.61237029e+00 -1.08801282e+00\n",
            " -9.80717542e-01  1.59905867e+00 -5.79598557e-01 -2.07270935e-02\n",
            " -4.39977157e-01 -1.12745553e+00 -4.78689744e-01  2.08113023e+00\n",
            " -1.70097209e+00  1.20583078e+00 -3.88976370e-01  1.00804064e+00\n",
            " -1.04445912e+00  2.13224333e-01  1.19704790e-01 -1.04193530e+00\n",
            "  1.08243589e-01 -1.50729106e+00 -5.47127558e-01  8.79251073e-01\n",
            "  1.51586029e+00 -2.58686497e-01 -8.46135103e-02  8.70728961e-01\n",
            "  2.45606638e-01 -3.36396671e-01 -1.69295014e+00  1.50574337e+00\n",
            " -8.03233329e-01 -9.73290874e-01  1.19541888e+00  5.84386785e-01\n",
            " -6.68190776e-01 -1.53041798e+00 -4.51327620e-01 -1.85149392e-01\n",
            "  2.18701660e-01 -6.75508101e-01 -1.80693365e+00 -3.13808007e-02\n",
            " -1.59614125e+00 -1.01262035e+00 -9.61959133e-01 -5.58214574e-01\n",
            " -1.72947968e+00 -1.16722889e+00 -6.59857977e-01  6.18625922e-01\n",
            "  2.82785407e-01  4.63362196e-01  1.54579945e+00 -1.92273133e-01\n",
            " -1.12447733e+00  2.18998147e-01  2.03863672e-01 -2.91489630e-02\n",
            " -5.47512818e-01  1.94794467e+00 -5.42473045e-01 -9.18772361e-01\n",
            " -3.77654066e-01  2.32829774e+00 -1.14545133e+00 -1.72060116e+00\n",
            " -1.92317384e-01  7.67710230e-01  1.45531924e+00  1.80282790e+00\n",
            " -7.05406995e-01  6.28558072e-01 -1.20675053e+00 -3.20813059e-01\n",
            " -3.25138206e-01  1.37712400e+00  1.71833039e-01  1.17890356e+00\n",
            " -2.13967979e-01 -8.22088517e-01 -3.57411268e-01  1.43645111e+00\n",
            " -1.21521918e+00  1.77765689e+00 -3.97736384e-01 -2.61109873e-01\n",
            " -2.77798367e-01  3.13098346e-01  1.45365662e+00  2.65989130e-01\n",
            "  1.30977938e+00 -3.14911053e-01  2.44692416e-01  2.31099335e-01\n",
            "  1.85731405e+00 -1.68504153e+00  2.15384454e-01  4.89339878e-01\n",
            " -1.82446917e+00  8.22803104e-01  3.78602902e-01  1.16023261e-01\n",
            " -2.92242368e-01 -5.31651250e-01  6.19094830e-01 -3.00821054e-01\n",
            " -2.23669419e-01 -1.71182098e+00 -1.52595719e+00  1.19951274e+00\n",
            "  1.91424109e+00  2.46264830e+00 -8.15450076e-01  7.90820785e-01\n",
            " -4.61636446e-01 -9.53429343e-01 -8.91838708e-01 -5.70486560e-02\n",
            " -1.55074778e+00 -2.83933634e-01 -1.18458843e+00 -1.41908446e-01\n",
            " -1.46620834e+00 -4.16089234e-01 -3.01150157e-01 -2.74146141e-01\n",
            " -8.11639605e-01 -5.90499834e-01 -5.27497854e-01 -8.57254941e-01\n",
            "  1.66285220e+00  9.20370309e-01  3.36065811e-01 -5.18641876e-01\n",
            "  2.39929086e+00  1.83497769e+00  2.76768901e-01  8.57572952e-01\n",
            " -9.12137275e-01 -3.09063031e-01  2.63615488e+00  9.58854155e-01\n",
            " -4.08204149e-01 -1.41419082e+00  5.76036262e-01 -1.07822336e+00\n",
            " -4.76960757e-01 -9.91873264e-01 -8.73482070e-01 -1.78590004e+00\n",
            "  1.81020974e+00 -4.29576695e-01  4.38445734e-01 -1.50190714e+00\n",
            "  2.40585385e-01  7.11310543e-01 -1.77137270e+00  1.16826992e+00\n",
            " -2.77632461e-01  1.03288312e+00 -1.05953378e+00 -5.34663983e-02\n",
            "  2.88885493e-01 -3.97846063e-01  3.31604409e-01  1.30914992e+00\n",
            "  1.40338494e+00  1.27532576e-01 -6.20171228e-01 -1.22325090e+00\n",
            "  2.38372140e-01 -5.33659575e-01 -1.53194164e+00 -9.20439421e-01\n",
            " -1.64962200e+00 -1.78267221e-01  1.90001906e-01  7.11284752e-01\n",
            "  1.43136243e+00 -9.97659826e-01 -7.12231549e-01 -5.19113874e-01\n",
            "  9.55712899e-02 -1.10068975e+00  3.56391421e-01 -5.10237392e-01\n",
            " -4.39992661e-01  7.61346542e-01 -9.10562191e-01 -1.87440115e-01\n",
            " -3.74664163e-01  1.81629043e+00  4.47311246e-01  1.51955612e+00\n",
            "  4.74826854e-01 -2.37870284e-01 -1.45418942e-01  2.85375453e-01\n",
            " -1.67045124e+00  2.10052034e-02 -6.31059717e-01 -1.34384826e+00\n",
            "  2.17409280e-01  5.32058042e-01 -1.93355503e-01  2.72894917e-01\n",
            " -5.96391210e-01  8.50930301e-02 -3.18538924e-01 -1.86754787e+00\n",
            " -3.70190085e-01 -1.20518637e+00 -3.60275102e-01 -1.23847282e+00\n",
            " -8.44813531e-01  7.74019019e-01 -8.74411984e-02 -3.65105063e-01\n",
            " -4.78025896e-01  1.90323695e+00 -2.91446649e-01 -4.20396068e-01\n",
            "  2.66345476e+00  1.89174156e-01 -1.03229403e+00 -6.35860874e-01\n",
            " -9.66427998e-01 -9.07755812e-02 -6.63951319e-01  3.62227072e-01\n",
            " -1.02641887e+00 -5.46202914e-01 -1.40818073e-01  1.19042892e+00\n",
            " -8.74158705e-01 -4.59810480e-01  2.50736919e-01 -5.60148886e-01\n",
            "  2.57377939e+00 -8.94751070e-01  8.40607289e-01  2.40195414e+00\n",
            " -7.05323662e-01  1.19141257e-01 -4.07956474e-01  1.59332973e+00\n",
            " -4.27781109e-01 -5.47139694e-01 -4.39426807e-01  6.49654840e-01\n",
            " -2.50620234e-01  5.77691011e-01 -7.69303350e-01  1.07160318e+00\n",
            " -1.33585157e-01 -8.22471133e-01 -9.39096338e-01  1.10334978e+00\n",
            " -1.33472397e+00 -9.51931777e-01 -1.89575390e-01 -9.59231286e-01\n",
            " -3.15645105e-01 -1.04156437e+00  7.30743101e-01 -1.08154126e+00\n",
            "  1.44381353e-01  1.05392075e+00  5.21894348e-02  5.36761106e-01\n",
            " -4.04609847e-01 -1.17222665e+00 -2.83753861e-01  2.67313120e-01\n",
            " -1.47463133e+00 -1.68362712e+00  3.10646130e-01 -4.07963929e-01\n",
            " -5.73571873e-01  3.30815373e-01  1.77496386e-01  2.53245842e-01\n",
            "  9.43759575e-02 -4.13381931e-01 -4.15055423e-01  4.61196085e-01\n",
            " -1.66735132e+00 -8.02215971e-01 -9.26004629e-01 -3.73763067e-01\n",
            "  1.73429226e+00 -4.10509981e-01 -1.16828724e+00 -1.55175165e+00\n",
            " -3.96799304e-01  8.82304386e-01 -6.30921010e-01 -1.05106539e-01\n",
            " -3.02161374e-01 -1.20212945e+00  1.44367947e+00 -6.53445589e-01\n",
            " -9.86287917e-01 -5.55702655e-01 -8.16754167e-01 -2.94551629e-01\n",
            " -7.88828533e-01 -1.15724911e+00  8.77647180e-01  1.88360998e+00\n",
            " -8.19839719e-01  1.72199423e+00 -6.04403953e-02  5.67920538e-01\n",
            "  1.44702334e+00  1.18118976e+00  2.99454352e-01 -9.96474875e-01\n",
            " -8.34818294e-01 -4.57623381e-01 -3.60348512e-01 -1.00604674e+00\n",
            "  1.28182831e+00 -4.52781837e-01  1.72752296e-01 -1.44636734e+00\n",
            " -4.30359736e-01  8.54787565e-01 -8.22118586e-01 -8.78438727e-01\n",
            " -1.44673148e+00 -4.80836793e-01  5.44555608e-02 -2.82650678e-01\n",
            "  2.22571693e-01 -3.06399857e-01 -1.11719997e+00 -4.67019971e-01\n",
            " -5.58981349e-01  1.85733462e+00 -9.17067252e-01 -6.40794696e-01\n",
            " -8.40670481e-01  1.08196264e-01 -2.70544850e-01  3.50188497e-01\n",
            "  1.45651297e+00  8.09124590e-01 -5.17992785e-01 -1.35683797e+00\n",
            "  7.30504682e-01  3.16549409e-01 -6.02103058e-01  1.27184778e-02\n",
            " -6.38144457e-01  1.77696341e+00 -3.40466595e-01 -2.47069885e-01\n",
            "  1.80878372e-01  1.39711262e+00  1.71985810e+00 -3.60144485e-01\n",
            " -1.48119014e+00 -5.53767776e-01  1.17340501e+00  7.04010113e-01\n",
            "  1.20749332e+00 -2.89736638e-02 -1.45450875e+00 -5.36271921e-01\n",
            "  3.77190581e-01 -5.13368378e-01 -3.33284921e-01 -6.10995924e-01\n",
            " -1.59625775e-01  1.60166254e+00  1.60985549e-02  2.29131548e+00\n",
            "  1.19524154e+00  1.38068925e+00  2.16510741e-01 -7.17297867e-01\n",
            " -1.80163837e-01  2.31233343e+00  1.55255605e-01 -3.90496699e-01\n",
            "  7.86596652e-01 -9.55219594e-01 -9.34639093e-01  1.59365270e+00\n",
            "  1.32610197e+00 -8.43931306e-01 -4.67038032e-01 -4.84035000e-01\n",
            "  1.06122626e+00  1.34039573e+00  3.72884166e-01 -8.54449169e-01\n",
            " -1.44202885e+00 -1.21656502e+00 -1.45113217e+00  1.71574731e+00\n",
            " -3.40615045e-01  4.40761838e-01 -4.13796866e-01  2.62499583e-01\n",
            " -5.51532474e-01 -5.39080924e-01  7.73201788e-01  1.42645871e+00\n",
            "  1.08504673e+00 -1.43181357e+00 -3.17524531e-01  1.38196692e+00\n",
            "  1.02327740e+00  2.17148674e+00 -9.70284410e-01 -6.46533923e-01\n",
            "  4.23779588e-02 -7.97428527e-01  1.87836092e+00 -5.06504244e-02\n",
            " -8.60112709e-01  2.02683905e-02 -6.02996897e-01  1.59063179e+00\n",
            "  1.01784728e-01 -8.02836631e-01 -1.48553276e+00  8.02613512e-01\n",
            " -3.57495907e-01 -1.86039857e+00  1.37889002e+00 -8.83397774e-01\n",
            "  7.67647143e-04 -6.18194243e-01  5.73004540e-01  9.68170086e-01\n",
            "  1.32080048e+00  3.16950021e-01 -2.45671041e-01 -6.92913920e-01\n",
            "  1.02177953e+00 -5.76152768e-02  1.56981514e+00  3.21352220e-01\n",
            " -4.59957209e-01  3.82918176e-01  5.65133395e-01 -1.68447983e+00\n",
            "  2.34200158e-01 -1.20609449e+00  3.54810071e-01  1.33663534e+00\n",
            " -9.61532468e-01 -1.19072128e+00  1.76715269e-01 -2.27951479e-01\n",
            "  1.27079055e+00 -3.26970776e-01 -1.13982548e-01 -3.65393489e-01\n",
            " -7.10222455e-01 -3.04483162e-01 -9.41320480e-02  2.70761034e-01\n",
            " -4.62580975e-01 -2.98488432e-01 -7.48983147e-01 -2.67039697e-01\n",
            " -2.66708524e-01  4.03797460e-01 -1.42953124e+00 -4.48564356e-01\n",
            "  6.32513328e-02  1.61315685e+00 -4.86567011e-01 -2.49166627e-01\n",
            "  1.31805230e-01  1.30118709e+00  1.27566969e-01 -8.25041493e-02\n",
            "  5.75821070e-01  1.82356241e+00 -4.20638047e-01 -7.33011316e-01\n",
            " -1.19100531e+00 -8.78713576e-01  2.30048520e+00  1.36672865e+00\n",
            "  2.15064060e+00 -5.69783740e-01  1.55544894e+00 -4.28688238e-01\n",
            "  3.91526308e-02 -4.94150902e-01  2.54054052e-01 -3.99510327e-01\n",
            " -9.12076515e-01 -1.03886097e+00  1.57842497e+00 -3.77625942e-01\n",
            "  8.60517817e-01 -1.10438291e+00  3.89470937e-01 -4.19643205e-01\n",
            " -4.86303717e-01  1.88278184e-01 -1.67088971e+00 -3.82894060e-01\n",
            " -9.44914963e-01 -9.10932418e-02 -3.54569281e-01 -3.64775668e-01\n",
            "  2.10915182e-01 -1.20049288e+00  6.61609011e-01 -1.10464117e+00\n",
            "  2.12892932e+00  1.87977661e-02 -1.43580592e+00  1.20326468e+00\n",
            " -1.51665042e-03 -4.05703177e-01 -3.31037617e-01  1.71406644e+00\n",
            " -5.81929698e-01 -5.86675385e-01 -5.70208180e-01 -4.57452869e-01\n",
            " -1.58428077e-01  6.32793288e-01 -4.70466781e-01  3.50059684e-02\n",
            " -3.72878333e-03  1.03136559e+00 -1.26788602e-01 -3.00573374e-01\n",
            "  1.97377878e-01  1.99006235e-01 -9.13959576e-01 -8.93304166e-01\n",
            "  2.27110246e+00  5.65722306e-01  7.10625352e-01 -1.27136451e-02\n",
            " -2.10443357e-01 -1.18440432e+00  4.05334173e-01  1.66682633e+00\n",
            " -3.20218386e-01  2.17759262e-01  2.64760492e+00 -3.26506220e-02\n",
            " -8.03684626e-01  1.50745342e+00 -2.04186964e+00 -5.91091729e-01\n",
            "  1.86250949e+00 -2.42446268e-01  1.47189263e+00  8.25892527e-01\n",
            "  5.81664991e-01 -2.82317526e-02  1.41108302e+00 -9.53456562e-01\n",
            "  9.22728908e-01 -1.60080176e+00  6.62884722e-01  2.12081099e-01\n",
            "  1.82016813e+00 -5.39559781e-01  2.09621872e+00 -1.76857305e+00\n",
            "  4.00616821e-01 -1.52464573e+00  1.92157858e+00 -5.95044687e-01\n",
            " -2.40881498e-01 -3.27387978e-01 -2.46076076e-01  7.44289682e-01\n",
            "  3.65953067e-01  1.67350033e+00 -5.80269639e-01 -5.01426298e-01\n",
            " -1.15310280e+00 -5.24812875e-01 -6.20693047e-01  1.19047586e+00\n",
            " -6.17325856e-01]\n",
            "\n",
            "Mean Squared Error:\n",
            "0.007705121327576907\n",
            "\n",
            "R2 Score\n",
            "0.9922856850509928\n",
            "\n"
          ]
        }
      ]
    },
    {
      "cell_type": "code",
      "source": [
        "\n"
      ],
      "metadata": {
        "id": "rDomqmrqA4II"
      },
      "execution_count": null,
      "outputs": []
    },
    {
      "cell_type": "markdown",
      "source": [
        "We used the gradient descent because this model iterativley updates the parameters based on a learning rate. As we see in the accuracy of our models, our weekly and daily are essentially random. Only when we move towards hourly do we see an increase in accuracy significantly above random."
      ],
      "metadata": {
        "id": "Mb6Ho2RGAbBu"
      }
    },
    {
      "cell_type": "markdown",
      "source": [
        "."
      ],
      "metadata": {
        "id": "LrmanvwPWk-D"
      }
    },
    {
      "cell_type": "markdown",
      "source": [
        "**Model 3: RandomForestRegressor**"
      ],
      "metadata": {
        "id": "iPnxh-YwyBMe"
      }
    },
    {
      "cell_type": "code",
      "source": [
        "# Brandon Diaz-Lopez\n",
        "# Model 3: Random Forrest Regressor\n",
        "\n",
        "# Import necessary packages to the jupyter notebook\n",
        "from sklearn.preprocessing import MinMaxScaler\n",
        "from sklearn.model_selection import train_test_split\n",
        "from sklearn.metrics import mean_squared_error\n",
        "from sklearn.metrics import r2_score\n",
        "from sklearn.ensemble import RandomForestRegressor\n",
        "import numpy as np\n",
        "import matplotlib.pyplot as plt\n",
        "\n",
        "#for implementing series_to_supervised() function\n",
        "from pandas import DataFrame\n",
        "from pandas import concat\n",
        "\n",
        "# Get the Adjusted Close Price for weekly, daily, & hourly data\n",
        "weekly_select4 = spy_weekly_sts[['var1(t)']]\n",
        "daily_select4 = spy_daily_sts[['var1(t)']]\n",
        "hourly_select4 = spy_hourly_sts[['var1(t)']]\n",
        "\n",
        "# converting the datasets to a numpy arrays\n",
        "values_weekly4 = weekly_select4.values\n",
        "values_daily4 = daily_select4.values\n",
        "values_hourly4 = hourly_select4.values"
      ],
      "metadata": {
        "id": "lPLNVXnTQPs9"
      },
      "execution_count": null,
      "outputs": []
    },
    {
      "cell_type": "code",
      "source": [
        "#weekly dataset\n",
        "\n",
        "#First we need to scale the data\n",
        "weeklyscaler = MinMaxScaler(feature_range=(0, 1))\n",
        "weekly_scaled_values = weeklyscaler.fit_transform(values_weekly4)\n",
        "\n",
        "#Then we split the data into training and testing datasets\n",
        "weeklyX_train, weeklyX_test, weeklyy_train, weeklyy_test = train_test_split(weekly_scaled_values[:-1], weekly_scaled_values[1:], test_size=0.2, random_state=42)\n",
        "\n",
        "\n",
        "# Adding the Ravel() function to convert the 1d array to a 2d one\n",
        "weeklyy_train = weeklyy_train.ravel()\n",
        "weeklyy_test = weeklyy_test.ravel()\n",
        "\n",
        "#Now we must create the instance for the RandomForrestRegressor  \n",
        "#side note, we are using the regressor vs the classifer because the regressor works better with numeric or continuous outputs that cannot be defined by classes\n",
        "weeklyrf_model = RandomForestRegressor(n_estimators=100, max_depth=5, random_state=42)\n",
        "\n",
        "weeklyrf_model.fit(weeklyX_train, weeklyy_train)\n",
        "\n",
        "weeklyy_pred = weeklyrf_model.predict(weeklyX_test)\n",
        "\n",
        "# Calculating the weekly RMSE and R^2 scores\n",
        "weeklyrmse = np.sqrt(mean_squared_error(weeklyy_test, weeklyy_pred))\n",
        "weeklyr2 = r2_score(weeklyy_test, weeklyy_pred)\n",
        "\n",
        "print('Weekly RMSE:', weeklyrmse)\n",
        "print('Weekly R^2:', weeklyr2)\n",
        "\n",
        "# arrange for creating a range of values\n",
        "# from the min value of weeklyX_test to max value of weeklyX_test\n",
        "# with a difference of 0.01 between two consecutive values\n",
        "weeklyX_grid = np.arange(min(weeklyX_test), max(weeklyX_test), 0.01)\n",
        "\n",
        "# reshape the data into a len(weeklyX_grid)*1 array\n",
        "weeklyX_grid = weeklyX_grid.reshape((len(weeklyX_grid), 1))\n",
        "\n",
        "# Scatter plot for original data\n",
        "plt.scatter(weeklyX_test, weeklyy_test, color='blue')\n",
        "\n",
        "# Plot predicted data\n",
        "plt.plot(weeklyX_grid, weeklyrf_model.predict(weeklyX_grid), color='green')\n",
        "\n",
        "plt.title('Random Forest Regression')\n",
        "plt.xlabel('Time')\n",
        "plt.ylabel('Adjusted Close Price')\n",
        "plt.show()\n"
      ],
      "metadata": {
        "id": "07sxvpMjUVmK",
        "colab": {
          "base_uri": "https://localhost:8080/",
          "height": 508
        },
        "outputId": "49f0727a-c2de-445b-c091-56d62dce848b"
      },
      "execution_count": null,
      "outputs": [
        {
          "output_type": "stream",
          "name": "stdout",
          "text": [
            "Weekly RMSE: 0.17087327361882848\n",
            "Weekly R^2: -0.03312350174940337\n"
          ]
        },
        {
          "output_type": "display_data",
          "data": {
            "text/plain": [
              "<Figure size 640x480 with 1 Axes>"
            ],
            "image/png": "[encoded data removed]"
          },
          "metadata": {}
        }
      ]
    },
    {
      "cell_type": "code",
      "source": [
        "#daily dataset\n",
        "\n",
        "#First we need to scale the data \n",
        "dailyscaler = MinMaxScaler(feature_range=(0, 1))\n",
        "daily_scaled_values = dailyscaler.fit_transform(values_daily4)\n",
        "\n",
        "#Then we split the data into training and testing datasets\n",
        "dailyX_train, dailyX_test, dailyy_train, dailyy_test = train_test_split(daily_scaled_values[:-1], daily_scaled_values[1:], test_size=0.2, random_state=42)\n",
        "\n",
        "\n",
        "# Adding the Ravel() function to convert the 1d array to a 2d one\n",
        "dailyy_train = dailyy_train.ravel()\n",
        "dailyy_test = dailyy_test.ravel()\n",
        "\n",
        "#Now we must create the instance for the RandomForrestRegressor  \n",
        "#side note, we are using the regressor vs the classifer because the regressor works better with numeric or continuous outputs that cannot be defined by classes\n",
        "dailyrf_model = RandomForestRegressor(n_estimators=100, max_depth=5, random_state=42)\n",
        "\n",
        "dailyrf_model.fit(dailyX_train, dailyy_train)\n",
        "\n",
        "dailyy_pred = dailyrf_model.predict(dailyX_test)\n",
        "\n",
        "# Calculating the daily RMSE and R^2 scores\n",
        "dailyrmse = np.sqrt(mean_squared_error(dailyy_test, dailyy_pred))\n",
        "dailyr2 = r2_score(dailyy_test, dailyy_pred)\n",
        "\n",
        "print('Daily RMSE:', dailyrmse)\n",
        "print('Daily R^2:', dailyr2)\n",
        "\n",
        "# arrange for creating a range of values\n",
        "# from the min value of dailyX_test to max value of dailyX_test\n",
        "# with a difference of 0.01 between two consecutive values\n",
        "dailyX_grid = np.arange(min(dailyX_test), max(dailyX_test), 0.01)\n",
        "\n",
        "# reshape the data into a len(dailyX_grid)*1 array\n",
        "dailyX_grid = dailyX_grid.reshape((len(dailyX_grid), 1))\n",
        "\n",
        "# Scatter plot for original data\n",
        "plt.scatter(dailyX_test, dailyy_test, color='blue')\n",
        "\n",
        "# Plot predicted data\n",
        "plt.plot(dailyX_grid, dailyrf_model.predict(dailyX_grid), color='green')\n",
        "\n",
        "plt.title('Random Forest Regression')\n",
        "plt.xlabel('Time')\n",
        "plt.ylabel('Adjusted Close Price')\n",
        "plt.show()"
      ],
      "metadata": {
        "id": "iEr9fqz-UbXh",
        "colab": {
          "base_uri": "https://localhost:8080/",
          "height": 508
        },
        "outputId": "9754dfe7-48c4-48a9-e79f-05bcb5f1039f"
      },
      "execution_count": null,
      "outputs": [
        {
          "output_type": "stream",
          "name": "stdout",
          "text": [
            "Daily RMSE: 0.05676115015844162\n",
            "Daily R^2: 0.9331531725828374\n"
          ]
        },
        {
          "output_type": "display_data",
          "data": {
            "text/plain": [
              "<Figure size 640x480 with 1 Axes>"
            ],
            "image/png": "[encoded data removed]"
          },
          "metadata": {}
        }
      ]
    },
    {
      "cell_type": "code",
      "source": [],
      "metadata": {
        "id": "EGzTScMnxoQk"
      },
      "execution_count": null,
      "outputs": []
    },
    {
      "cell_type": "code",
      "source": [
        "#hourly dataset\n",
        "\n",
        "#First we need to scale the data \n",
        "hourlyscaler = MinMaxScaler(feature_range=(0, 1))\n",
        "hourly_scaled_values = hourlyscaler.fit_transform(values_hourly4)\n",
        "\n",
        "#Then we split the data into training and testing datasets\n",
        "hourlyX_train, hourlyX_test, hourlyy_train, hourlyy_test = train_test_split(hourly_scaled_values[:-1], hourly_scaled_values[1:], test_size=0.2, random_state=42)\n",
        "\n",
        "\n",
        "# Adding the Ravel() function to convert the 1d array to a 2d one\n",
        "hourlyy_train = hourlyy_train.ravel()\n",
        "hourlyy_test = hourlyy_test.ravel()\n",
        "\n",
        "#Now we must create the instance for the RandomForrestRegressor  \n",
        "#side note, we are using the regressor vs the classifer because the regressor works better with numeric or continuous outputs that cannot be defined by classes\n",
        "hourlyrf_model = RandomForestRegressor(n_estimators=100, max_depth=5, random_state=42)\n",
        "\n",
        "hourlyrf_model.fit(hourlyX_train, hourlyy_train)\n",
        "\n",
        "hourlyy_pred = hourlyrf_model.predict(hourlyX_test)\n",
        "\n",
        "# Calculating the hourly RMSE and R^2 scores\n",
        "hourlyrmse = np.sqrt(mean_squared_error(hourlyy_test, hourlyy_pred))\n",
        "hourlyr2 = r2_score(hourlyy_test, hourlyy_pred)\n",
        "\n",
        "print('Hourly RMSE:', hourlyrmse)\n",
        "print('Hourly R^2:', hourlyr2)\n",
        "\n",
        "# arrange for creating a range of values\n",
        "# from the min value of hourlyX_test to max value of hourlyX_test\n",
        "# with a difference of 0.01 between two consecutive values\n",
        "hourlyX_grid = np.arange(min(hourlyX_test), max(hourlyX_test), 0.01)\n",
        "\n",
        "# reshape the data into a len(hourlyX_grid)*1 array\n",
        "hourlyX_grid = hourlyX_grid.reshape((len(hourlyX_grid), 1))\n",
        "\n",
        "# Scatter plot for original data\n",
        "plt.scatter(hourlyX_test, hourlyy_test, color='blue')\n",
        "\n",
        "# Plot predicted data\n",
        "plt.plot(hourlyX_grid, hourlyrf_model.predict(hourlyX_grid), color='green')\n",
        "\n",
        "plt.title('Random Forest Regression')\n",
        "plt.xlabel('Time')\n",
        "plt.ylabel('Adjusted Close Price')\n",
        "plt.show()"
      ],
      "metadata": {
        "id": "TVuwspksUeFz",
        "colab": {
          "base_uri": "https://localhost:8080/",
          "height": 508
        },
        "outputId": "d80d4974-6324-4ecd-f58a-a9690fa50ae8"
      },
      "execution_count": null,
      "outputs": [
        {
          "output_type": "stream",
          "name": "stdout",
          "text": [
            "Hourly RMSE: 0.01677302761736689\n",
            "Hourly R^2: 0.9931940085990595\n"
          ]
        },
        {
          "output_type": "display_data",
          "data": {
            "text/plain": [
              "<Figure size 640x480 with 1 Axes>"
            ],
            "image/png": "[encoded data removed]"
          },
          "metadata": {}
        }
      ]
    },
    {
      "cell_type": "markdown",
      "source": [
        "Another model that we decided to use is the Random Forrest Regressor model. The reason why we have to use the regressor model instead of the Random Forrest Classifer is because our data is numerical and it does not have a class. The reason we usaed MinMaxScaler is because it avoids any bias towards larger value which then ensures that our model will learn some meaningful patterns. \n",
        "\n",
        "Another change that we used in these models were the function \"ravel()\". The reason we had to use this function is because we were converting it from a 2-dimensional array to a 1-dimensional array.\n",
        "\n",
        "The results for this model were intially very successful. These were the following results: \n",
        "\n",
        "WEEKLY\n",
        "1. Weekly RMSE: 0.17087326684380122\n",
        "2. Weekly R^2: -0.03312247762987219\n",
        "\n",
        "DAILY\n",
        "1. Daily RMSE: 0.05676113362267673\n",
        "2. Daily R^2: 0.9331531575988805\n",
        "\n",
        "HOURLY\n",
        "1. Hourly RMSE: 0.01677302761736689\n",
        "2. Hourly R^2: 0.9931940085990595\n",
        "\n",
        "All of the models performed extremely well, however, the hourly model was almost perfect. With an R^2 close to 1 and a low RMSE, it has the highest chaance to be accurate when predicting this model. I believe this has to do with the amount of trades that occur hourly. Further research needs to be made to determine why hourly is performing much better than weekly. \n",
        "\n",
        "One of the ways that we will explore making this model more accurate is by using the AdaboostRegressor function. This will help boost our models accuracy. Another way is to mess with the initial parameters such as the number os estimators, the max depth, and the random state. I believe that all of these will help improve our models predictions. "
      ],
      "metadata": {
        "id": "9qaZzDr2Q8ZV"
      }
    },
    {
      "cell_type": "markdown",
      "source": [
        "."
      ],
      "metadata": {
        "id": "h0UJLi2DWmsI"
      }
    },
    {
      "cell_type": "markdown",
      "source": [
        "**Model 4: Normal Equation Method**\n",
        "\n",
        "For this portion, we will attempt to predict the closing price of the SPY 500. Our preliminary model will be based on last 10 weeks, 10 days, and 10 hours of closing prices."
      ],
      "metadata": {
        "id": "1MUxDPzu9PQS"
      }
    },
    {
      "cell_type": "code",
      "source": [
        "# Maria Greenfield\n",
        "# Model 4: Normal Equation Method\n",
        "\n",
        "# Import necessary packages to the jupyter notebook\n",
        "# Implement a Linear Regression model using Normal Equation Method\n",
        "from sklearn . preprocessing import MinMaxScaler\n",
        "from sklearn . model_selection import train_test_split\n",
        "from sklearn . metrics import mean_squared_error\n",
        "from sklearn . metrics import r2_score\n",
        "from sklearn . metrics import accuracy_score"
      ],
      "metadata": {
        "id": "sIkeJyZfWRBe"
      },
      "execution_count": null,
      "outputs": []
    },
    {
      "cell_type": "markdown",
      "source": [
        "We will then scale the data using the MinMaxScaler() function. This is an important preprocessing step, as it allows us to scale and translate each figure individually such that it is in the given range on the training set."
      ],
      "metadata": {
        "id": "Ih3GSjeerUoV"
      }
    },
    {
      "cell_type": "code",
      "source": [
        "# converting Weekly data to numpy array first\n",
        "spy_weekly_sts = spy_weekly_sts.to_numpy()\n",
        "# scaling Weekly data with MinMaxScaler()\n",
        "mm_scaler_weekly = MinMaxScaler().fit_transform(spy_weekly_sts)\n",
        "print(\"Weekly data Scaled: \")\n",
        "print(mm_scaler_weekly)\n",
        "print(\" \")\n",
        "\n",
        "# converting Daily data to numpy array first\n",
        "spy_daily_sts = spy_daily_sts.to_numpy()\n",
        "# scaling Daily data with MinMaxScaler()\n",
        "mm_scaler_daily = MinMaxScaler().fit_transform(spy_daily_sts)\n",
        "print(\"Daily data Scaled: \")\n",
        "print(mm_scaler_daily)\n",
        "print(\" \")\n",
        "\n",
        "# converting Hourly data to numpy array first\n",
        "spy_hourly_sts = spy_hourly_sts.to_numpy()\n",
        "# scaling Hourly data with MinMaxScaler()\n",
        "mm_scaler_hourly = MinMaxScaler().fit_transform(spy_hourly_sts)\n",
        "print(\"Hourly data Scaled: \")\n",
        "print(mm_scaler_hourly)"
      ],
      "metadata": {
        "id": "Q_lfVlTXrdii",
        "colab": {
          "base_uri": "https://localhost:8080/"
        },
        "outputId": "a0e18b6e-b5df-4a23-efa4-abbf148abc1b"
      },
      "execution_count": null,
      "outputs": [
        {
          "output_type": "stream",
          "name": "stdout",
          "text": [
            "Weekly data Scaled: \n",
            "[[1.         1.         0.82424705 0.86693008 0.93950187 0.8509103\n",
            "  0.78392969 0.82177428 0.76178154 0.63169046 0.89456061]\n",
            " [0.98692446 0.74140374 0.86693008 0.93950187 0.8509103  0.78392969\n",
            "  0.82177428 0.76178154 0.63169046 0.89456061 0.9975192 ]\n",
            " [0.73170949 0.77979679 0.93950187 0.8509103  0.78392969 0.82177428\n",
            "  0.76178154 0.63169046 0.89456061 0.9975192  1.        ]\n",
            " [0.76960053 0.84507454 0.8509103  0.78392969 0.82177428 0.76178154\n",
            "  0.63169046 0.89456061 0.9975192  1.         0.94230164]\n",
            " [0.83402474 0.76538713 0.78392969 0.82177428 0.76178154 0.63169046\n",
            "  0.89456061 0.9975192  1.         0.94230164 0.83682644]\n",
            " [0.75537928 0.70513859 0.82177428 0.76178154 0.63169046 0.89456061\n",
            "  0.9975192  1.         0.94230164 0.83682644 0.71010578]\n",
            " [0.69591853 0.73917951 0.76178154 0.63169046 0.89456061 0.9975192\n",
            "  1.         0.94230164 0.83682644 0.71010578 0.55868791]\n",
            " [0.72951434 0.68521651 0.63169046 0.89456061 0.9975192  1.\n",
            "  0.94230164 0.83682644 0.71010578 0.55868791 0.55156983]\n",
            " [0.67625694 0.5682006  0.89456061 0.9975192  1.         0.94230164\n",
            "  0.83682644 0.71010578 0.55868791 0.55156983 0.44782068]\n",
            " [0.56077107 0.80465024 0.9975192  1.         0.94230164 0.83682644\n",
            "  0.71010578 0.55868791 0.55156983 0.44782068 0.31743338]\n",
            " [0.79412901 0.89726068 1.         0.94230164 0.83682644 0.71010578\n",
            "  0.55868791 0.55156983 0.44782068 0.31743338 0.5938462 ]\n",
            " [0.88552852 0.89949214 0.94230164 0.83682644 0.71010578 0.55868791\n",
            "  0.55156983 0.44782068 0.31743338 0.5938462  0.54294192]\n",
            " [0.8877308  0.84759292 0.83682644 0.71010578 0.55868791 0.55156983\n",
            "  0.44782068 0.31743338 0.5938462  0.54294192 0.31926654]\n",
            " [0.83651018 0.7527188  0.71010578 0.55868791 0.55156983 0.44782068\n",
            "  0.31743338 0.5938462  0.54294192 0.31926654 0.06107951]\n",
            " [0.7428766  0.63873457 0.55868791 0.55156983 0.44782068 0.31743338\n",
            "  0.5938462  0.54294192 0.31926654 0.06107951 0.34045877]\n",
            " [0.63038277 0.50253538 0.55156983 0.44782068 0.31743338 0.5938462\n",
            "  0.54294192 0.31926654 0.06107951 0.34045877 0.24470997]\n",
            " [0.49596446 0.49613273 0.44782068 0.31743338 0.5938462  0.54294192\n",
            "  0.31926654 0.06107951 0.34045877 0.24470997 0.32518672]\n",
            " [0.48964553 0.40281118 0.31743338 0.5938462  0.54294192 0.31926654\n",
            "  0.06107951 0.34045877 0.24470997 0.32518672 0.28684409]\n",
            " [0.39754421 0.28552883 0.5938462  0.54294192 0.31926654 0.06107951\n",
            "  0.34045877 0.24470997 0.32518672 0.28684409 0.39472378]\n",
            " [0.28179539 0.53415999 0.54294192 0.31926654 0.06107951 0.34045877\n",
            "  0.24470997 0.32518672 0.28684409 0.39472378 0.5777732 ]\n",
            " [0.52717556 0.48837199 0.31926654 0.06107951 0.34045877 0.24470997\n",
            "  0.32518672 0.28684409 0.39472378 0.5777732  0.59380369]\n",
            " [0.48198626 0.28717774 0.06107951 0.34045877 0.24470997 0.32518672\n",
            "  0.28684409 0.39472378 0.5777732  0.59380369 0.7414351 ]\n",
            " [0.28342274 0.05494054 0.34045877 0.24470997 0.32518672 0.28684409\n",
            "  0.39472378 0.5777732  0.59380369 0.7414351  0.68771197]\n",
            " [0.05422216 0.30623999 0.24470997 0.32518672 0.28684409 0.39472378\n",
            "  0.5777732  0.59380369 0.7414351  0.68771197 0.50541997]\n",
            " [0.30223574 0.2201147  0.32518672 0.28684409 0.39472378 0.5777732\n",
            "  0.59380369 0.7414351  0.68771197 0.50541997 0.36385468]\n",
            " [0.21723658 0.2925029  0.28684409 0.39472378 0.5777732  0.59380369\n",
            "  0.7414351  0.68771197 0.50541997 0.36385468 0.51939272]\n",
            " [0.28867827 0.25801401 0.39472378 0.5777732  0.59380369 0.7414351\n",
            "  0.68771197 0.50541997 0.36385468 0.51939272 0.29150145]\n",
            " [0.25464033 0.35505094 0.5777732  0.59380369 0.7414351  0.68771197\n",
            "  0.50541997 0.36385468 0.51939272 0.29150145 0.11713282]\n",
            " [0.35040846 0.51970246 0.59380369 0.7414351  0.68771197 0.50541997\n",
            "  0.36385468 0.51939272 0.29150145 0.11713282 0.        ]\n",
            " [0.51290707 0.53412175 0.7414351  0.68771197 0.50541997 0.36385468\n",
            "  0.51939272 0.29150145 0.11713282 0.         0.06101357]\n",
            " [0.52713782 0.66691504 0.68771197 0.50541997 0.36385468 0.51939272\n",
            "  0.29150145 0.11713282 0.         0.06101357 0.00489433]\n",
            " [0.65819477 0.61859151 0.50541997 0.36385468 0.51939272 0.29150145\n",
            "  0.11713282 0.         0.06101357 0.00489433 0.18608583]\n",
            " [0.6105031  0.45462129 0.36385468 0.51939272 0.29150145 0.11713282\n",
            "  0.         0.06101357 0.00489433 0.18608583 0.34628625]\n",
            " [0.44867688 0.32728442 0.51939272 0.29150145 0.11713282 0.\n",
            "  0.06101357 0.00489433 0.18608583 0.34628625 0.20848968]\n",
            " [0.32300501 0.46718967 0.29150145 0.11713282 0.         0.06101357\n",
            "  0.00489433 0.18608583 0.34628625 0.20848968 0.4494982 ]\n",
            " [0.46108091 0.26220326 0.11713282 0.         0.06101357 0.00489433\n",
            "  0.18608583 0.34628625 0.20848968 0.4494982  0.42252602]\n",
            " [0.25877482 0.10536005 0.         0.06101357 0.00489433 0.18608583\n",
            "  0.34628625 0.20848968 0.4494982  0.42252602 0.49104358]\n",
            " [0.10398241 0.         0.06101357 0.00489433 0.18608583 0.34628625\n",
            "  0.20848968 0.4494982  0.42252602 0.49104358 0.54085506]\n",
            " [0.         0.05488123 0.00489433 0.18608583 0.34628625 0.20848968\n",
            "  0.4494982  0.42252602 0.49104358 0.54085506 0.39261751]\n",
            " [0.05416363 0.00440241 0.18608583 0.34628625 0.20848968 0.4494982\n",
            "  0.42252602 0.49104358 0.54085506 0.39261751 0.28375045]\n",
            " [0.00434484 0.16738274 0.34628625 0.20848968 0.4494982  0.42252602\n",
            "  0.49104358 0.54085506 0.39261751 0.28375045 0.29895858]\n",
            " [0.16519412 0.31148176 0.20848968 0.4494982  0.42252602 0.49104358\n",
            "  0.54085506 0.39261751 0.28375045 0.29895858 0.29371382]\n",
            " [0.30740897 0.18753483 0.4494982  0.42252602 0.49104358 0.54085506\n",
            "  0.39261751 0.28375045 0.29895858 0.29371382 0.35544432]\n",
            " [0.18508271 0.4043201  0.42252602 0.49104358 0.54085506 0.39261751\n",
            "  0.28375045 0.29895858 0.29371382 0.35544432 0.46929105]\n",
            " [0.3990334  0.38005883 0.49104358 0.54085506 0.39261751 0.28375045\n",
            "  0.29895858 0.29371382 0.35544432 0.46929105 0.44066579]\n",
            " [0.37508936 0.44168984 0.54085506 0.39261751 0.28375045 0.29895858\n",
            "  0.29371382 0.35544432 0.46929105 0.44066579 0.54773818]\n",
            " [0.43591451 0.48649488 0.39261751 0.28375045 0.29895858 0.29371382\n",
            "  0.35544432 0.46929105 0.44066579 0.54773818 0.6206132 ]\n",
            " [0.48013369 0.35315636 0.28375045 0.29895858 0.29371382 0.35544432\n",
            "  0.46929105 0.44066579 0.54773818 0.6206132  0.57352318]\n",
            " [0.34853865 0.2552313  0.29895858 0.29371382 0.35544432 0.46929105\n",
            "  0.44066579 0.54773818 0.6206132  0.57352318 0.56500103]\n",
            " [0.25189402 0.26891089 0.29371382 0.35544432 0.46929105 0.44066579\n",
            "  0.54773818 0.6206132  0.57352318 0.56500103 0.44612843]\n",
            " [0.26539474 0.26419327 0.35544432 0.46929105 0.44066579 0.54773818\n",
            "  0.6206132  0.57352318 0.56500103 0.44612843 0.53145868]\n",
            " [0.2607388  0.31971938 0.46929105 0.44066579 0.54773818 0.6206132\n",
            "  0.57352318 0.56500103 0.44612843 0.53145868 0.33173581]\n",
            " [0.31553887 0.42212361 0.44066579 0.54773818 0.6206132  0.57352318\n",
            "  0.56500103 0.44612843 0.53145868 0.33173581 0.37631257]\n",
            " [0.41660412 0.39637541 0.54773818 0.6206132  0.57352318 0.56500103\n",
            "  0.44612843 0.53145868 0.33173581 0.37631257 0.45574739]\n",
            " [0.39119259 0.49268619 0.6206132  0.57352318 0.56500103 0.44612843\n",
            "  0.53145868 0.33173581 0.37631257 0.45574739 0.60534383]\n",
            " [0.48624405 0.5582367  0.57352318 0.56500103 0.44612843 0.53145868\n",
            "  0.33173581 0.37631257 0.45574739 0.60534383 0.6031502 ]]\n",
            " \n",
            "Daily data Scaled: \n",
            "[[1.         1.         0.97607239 ... 0.9981737  1.         0.93651884]\n",
            " [0.99863288 0.92153103 0.97208436 ... 1.         0.92088962 0.89018271]\n",
            " [0.92027119 0.91776584 0.95531708 ... 0.92088962 0.87532678 0.84130455]\n",
            " ...\n",
            " [0.39514473 0.3363274  0.36603392 ... 0.5472485  0.56254534 0.5493564 ]\n",
            " [0.3358676  0.34558053 0.38988789 ... 0.56254534 0.54018839 0.53868618]\n",
            " [0.34510808 0.36810158 0.39672967 ... 0.54018839 0.52969624 0.55454178]]\n",
            " \n",
            "Hourly data Scaled: \n",
            "[[0.97774123 0.96817934 0.97131434 ... 0.98985028 0.99437631 0.98827714]\n",
            " [0.96817934 0.97131434 0.97233398 ... 0.99437631 0.98827714 0.98653456]\n",
            " [0.97131434 0.97233398 0.97907373 ... 0.98827714 0.98653456 1.        ]\n",
            " ...\n",
            " [0.42768238 0.42456317 0.43008858 ... 0.4472475  0.45148442 0.45370296]\n",
            " [0.42456317 0.43008858 0.43177363 ... 0.45148442 0.45370296 0.45059802]\n",
            " [0.43008858 0.43177363 0.43271411 ... 0.45370296 0.45059802 0.4530694 ]]\n"
          ]
        }
      ]
    },
    {
      "cell_type": "markdown",
      "source": [
        "The bias vector of ones added onto to the X matrix is a constant which is added to the product of features and weights. It is used to offset the result and helps the models to shift the activation function towards the positive or negative side.\n",
        "\n",
        "For the preliminary model, we have decided to split our data into 70% training data and 30% test data and have set the 'random_state'=1.\n",
        "\n",
        "The Normal Equation Method is a closed-form solution used to find the value of theta that minimized the cost function. It is a one-step algorithm used to analytically find the coefficients that minimize the loss funciton."
      ],
      "metadata": {
        "id": "bukYZ9ikueWC"
      }
    },
    {
      "cell_type": "code",
      "source": [
        "# linear regression coefficients using Normal Equation Method\n",
        "\n",
        "# Weekly\n",
        "#splitting data into a matrix X and a vector Y\n",
        "X_weekly = mm_scaler_weekly[:,0:10]\n",
        "Y_weekly = mm_scaler_weekly[:,10]\n",
        "\n",
        "# Add bias vector of ones as the first column\n",
        "X_weekly = np.column_stack((np.ones(X_weekly.shape[0]), X_weekly))\n",
        "\n",
        "#splitting data into training and test sets\n",
        "X_train_weekly, X_test_weekly, Y_train_weekly, Y_test_weekly = train_test_split(X_weekly, Y_weekly, test_size=0.3, random_state=1)\n",
        "\n",
        "#calculation for Normal Equation Method\n",
        "theta_weekly = np.dot(np.linalg.inv(np.dot(X_weekly.T,X_weekly)),np.dot(X_weekly.T,Y_weekly))\n",
        "print(\"Theta for weekly data: \")\n",
        "print(theta_weekly)\n",
        "print(\" \")\n",
        "\n",
        "\n",
        "# Daily\n",
        "#splitting data into a matrix X and a vector Y\n",
        "X_daily = mm_scaler_daily[:,0:10]\n",
        "Y_daily = mm_scaler_daily[:,10]\n",
        "\n",
        "# Add bias vector of ones as the first column\n",
        "X_daily = np.column_stack((np.ones(X_daily.shape[0]), X_daily))\n",
        "\n",
        "#splitting data into training and test sets\n",
        "X_train_daily, X_test_daily, Y_train_daily, Y_test_daily = train_test_split(X_daily, Y_daily, test_size=0.3, random_state=1)\n",
        "\n",
        "#calculation for Normal Equation Method\n",
        "theta_daily = np.dot(np.linalg.inv(np.dot(X_daily.T,X_daily)),np.dot(X_daily.T,Y_daily))\n",
        "print(\"Theta for daily data: \")\n",
        "print(theta_daily)\n",
        "print(\" \")\n",
        "\n",
        "\n",
        "# Hourly\n",
        "#splitting data into a matrix X and a vector Y\n",
        "X_hourly = mm_scaler_hourly[:,0:10]\n",
        "Y_hourly = mm_scaler_hourly[:,10]\n",
        "\n",
        "# Add bias vector of ones as the first column\n",
        "X_hourly = np.column_stack((np.ones(X_hourly.shape[0]), X_hourly))\n",
        "\n",
        "#splitting data into training and test sets\n",
        "X_train_hourly, X_test_hourly, Y_train_hourly, Y_test_hourly = train_test_split(X_hourly, Y_hourly, test_size=0.3, random_state=1)\n",
        "\n",
        "#calculation for Normal Equation Method\n",
        "theta_hourly = np.dot(np.linalg.inv(np.dot(X_hourly.T,X_hourly)),np.dot(X_hourly.T,Y_hourly))\n",
        "print(\"Theta for hourly data: \")\n",
        "print(theta_hourly)"
      ],
      "metadata": {
        "id": "iolVJqSeuds0",
        "colab": {
          "base_uri": "https://localhost:8080/"
        },
        "outputId": "6537719a-d252-4288-9932-24a0ab640ff9"
      },
      "execution_count": null,
      "outputs": [
        {
          "output_type": "stream",
          "name": "stdout",
          "text": [
            "Theta for weekly data: \n",
            "[ 0.06888983  0.04308448  0.28545438 -0.23956278  0.07117055 -0.00632137\n",
            " -0.18904112  0.08036617 -0.0139368   0.01683058  0.82390254]\n",
            " \n",
            "Theta for daily data: \n",
            "[ 0.01813304 -0.09630024  0.12038432 -0.06554874  0.09574075 -0.07884306\n",
            "  0.02110135  0.01755208  0.03084763 -0.06817477  1.00153811]\n",
            " \n",
            "Theta for hourly data: \n",
            "[ 0.00199623 -0.04013526  0.04507841 -0.05083688  0.07262085 -0.06716697\n",
            "  0.03685673 -0.0017368   0.03008148 -0.03582011  1.00618624]\n"
          ]
        }
      ]
    },
    {
      "cell_type": "markdown",
      "source": [
        "The prediction values are found by by calculating the dot product of the weight vector theta and the matrix X. The mean squared error (MSE) measure the amount of error in statistical methods by assessing the average squared difference between the observed and predicted values. The coefficient of determination R^2 indicated how much variation of a dependent variable (Y_pred) is explained by the indepenent variable (X) in a regression model. An R^2 value closer to 1 indicates smaller differences between the observed data and the fitted values."
      ],
      "metadata": {
        "id": "VAva5exUwmms"
      }
    },
    {
      "cell_type": "code",
      "source": [
        "# make a prediction using linear regression function\n",
        "\n",
        "# Weekly\n",
        "print(\"Weekly predictions and performance\")\n",
        "#prediction vector for Normal Equation Method\n",
        "Y_pred_weekly = X_test_weekly.dot(theta_weekly)\n",
        "print('Prediction vector: ', Y_pred_weekly)\n",
        "\n",
        "#MSE calculation\n",
        "mse_weekly = mean_squared_error(Y_test_weekly, Y_pred_weekly)\n",
        "print(\"Mean Squared Error: \", mse_weekly)\n",
        "\n",
        "#R^2 calculation\n",
        "r2_weekly = r2_score(Y_test_weekly, Y_pred_weekly)\n",
        "print(\"R^2: \", r2_weekly)\n",
        "print(\" \")\n",
        "\n",
        "\n",
        "# Daily\n",
        "print(\"Daily predictions and performance\")\n",
        "#prediction vector for Normal Equation Method\n",
        "Y_pred_daily = X_test_daily.dot(theta_daily)\n",
        "print('Prediction vector: ', Y_pred_daily)\n",
        "\n",
        "#MSE calculation\n",
        "mse_daily = mean_squared_error(Y_test_daily, Y_pred_daily)\n",
        "print(\"Mean Squared Error: \", mse_daily)\n",
        "\n",
        "#R^2 calculation\n",
        "r2_daily = r2_score(Y_test_daily, Y_pred_daily)\n",
        "print(\"R^2: \", r2_daily)\n",
        "print(\" \")\n",
        "\n",
        "\n",
        "# Hourly\n",
        "print(\"Hourly predictions and performance\")\n",
        "#prediction vector for Normal Equation Method\n",
        "Y_pred_hourly = X_test_hourly.dot(theta_hourly)\n",
        "print('Prediction vector: ', Y_pred_hourly)\n",
        "\n",
        "#MSE calculation\n",
        "mse_hourly = mean_squared_error(Y_test_hourly, Y_pred_hourly)\n",
        "print(\"Mean Squared Error: \", mse_hourly)\n",
        "\n",
        "#R^2 calculation\n",
        "r2_hourly = r2_score(Y_test_hourly, Y_pred_hourly)\n",
        "print(\"R^2: \", r2_hourly)"
      ],
      "metadata": {
        "id": "e3-NaBFtwsEO",
        "colab": {
          "base_uri": "https://localhost:8080/"
        },
        "outputId": "887cc2c8-dcaf-47db-98f0-e40682adba49"
      },
      "execution_count": null,
      "outputs": [
        {
          "output_type": "stream",
          "name": "stdout",
          "text": [
            "Weekly predictions and performance\n",
            "Prediction vector:  [0.47187138 0.88752927 0.5759922  0.40659204 0.30332911 0.37049759\n",
            " 0.45985764 0.32594937 0.53569686 0.22732927 0.52583893 0.63472179\n",
            " 0.53913731 0.34055029 0.35348744 0.92501197 0.44091821]\n",
            "Mean Squared Error:  0.011811281828779425\n",
            "R^2:  0.7462756625454338\n",
            " \n",
            "Daily predictions and performance\n",
            "Prediction vector:  [0.32607687 0.84695206 0.56152514 0.53446195 0.08324477 0.76760795\n",
            " 0.51560198 0.2199481  0.43456742 0.56315176 0.55897139 0.11677071\n",
            " 0.52116143 0.24697185 0.42660452 0.36282962 0.32522738 0.30682159\n",
            " 0.44709261 0.85649253 0.36595759 0.87949458 0.20737854 0.16254315\n",
            " 0.65946619 0.95678366 0.02357798 0.34253113 0.11349708 0.91347657\n",
            " 0.20024503 0.6498906  0.38531008 0.72676859 0.36970131 0.07921948\n",
            " 0.54522577 0.5322111  0.42137239 0.54995273 0.4044927  0.01592438\n",
            " 0.47221057 0.37172172 0.29040511 0.24950577 0.41246097 0.49709153\n",
            " 0.74442223 0.55640898 0.31861592 0.54928615 0.34705067 0.77985112\n",
            " 0.39325179 0.86310919 0.36223279 0.39107843 0.99771786 0.4210096\n",
            " 0.37262433 0.51077785 0.75089139 0.23162673 0.43881382 0.40681216\n",
            " 0.31913725 0.28936056 0.21057903 0.21344512 0.45348138 0.55868862\n",
            " 0.26956757 0.4969666  0.19740583 0.3098392  0.92967157 0.15813694\n",
            " 0.5332839  0.25431768 0.76178233 0.41622518 0.35708619 0.29583195\n",
            " 0.76267301 0.33409181 0.56312317 0.18344697 0.09915205 0.64128889\n",
            " 0.25937933 0.49689498 0.56217701]\n",
            "Mean Squared Error:  0.0027461524411390766\n",
            "R^2:  0.9457951085068876\n",
            " \n",
            "Hourly predictions and performance\n",
            "Prediction vector:  [0.74096839 0.46087882 0.5485717  0.84100744 0.42553371 0.28525381\n",
            " 0.82925338 0.20231613 0.67808161 0.66037498 0.35558167 0.26067439\n",
            " 0.84171914 0.36165269 0.31805306 0.43909152 0.39940461 0.41728195\n",
            " 0.10405769 0.35802058 0.28808826 0.47860823 0.36857737 0.60423933\n",
            " 0.30674844 0.1458183  0.55655184 0.23322012 0.6022682  0.77911667\n",
            " 0.4250696  0.30048465 0.25841145 0.17838539 0.3608262  0.28607101\n",
            " 0.26709353 0.77706396 0.58908947 0.28654575 0.22054941 0.74085541\n",
            " 0.1219025  0.49607546 0.27743649 0.62288655 0.36807429 0.19230158\n",
            " 0.26673108 0.4658794  0.34142484 0.32513222 0.30619119 0.32952916\n",
            " 0.68761437 0.38870461 0.47896994 0.335702   0.10268018 0.45963079\n",
            " 0.29259411 0.51440314 0.76985042 0.17751516 0.37308971 0.17121768\n",
            " 0.43029296 0.19834566 0.34887787 0.52115203 0.77227989 0.20225308\n",
            " 0.22501927 0.77022955 0.30851733 0.42857815 0.33984757 0.19643048\n",
            " 0.33075836 0.87187094 0.07330875 0.68737912 0.34989793 0.64403739\n",
            " 0.21093377 0.47767386 0.45855566 0.21238393 0.4550552  0.11471051\n",
            " 0.31842652 0.61932901 0.75318252 0.37971885 0.41582577 0.61647907\n",
            " 0.48505304 0.36191947 0.07411939 0.74919546 0.26283763 0.22728083\n",
            " 0.68558533 0.55549095 0.29270668 0.10999465 0.3362296  0.39593488\n",
            " 0.47982928 0.29010627 0.05277415 0.42506118 0.09616845 0.21908394\n",
            " 0.22661871 0.31473525 0.0646012  0.18841989 0.29433617 0.56207645\n",
            " 0.49183422 0.52934231 0.76005761 0.39177797 0.19434183 0.47807351\n",
            " 0.47547916 0.42329141 0.31645841 0.84494851 0.3178204  0.23934476\n",
            " 0.35268202 0.92274083 0.18922692 0.06990051 0.38784335 0.59417323\n",
            " 0.73920538 0.81119421 0.28652833 0.56560925 0.17847347 0.36727679\n",
            " 0.36276834 0.72358222 0.46859468 0.68240873 0.38566259 0.25580201\n",
            " 0.35631962 0.73462568 0.17767742 0.80815094 0.34852154 0.37531613\n",
            " 0.37451381 0.49772775 0.73901938 0.48871262 0.70860809 0.36615663\n",
            " 0.48466579 0.48041313 0.82472384 0.07800077 0.47726902 0.53597732\n",
            " 0.04694558 0.60622545 0.5125259  0.45677786 0.37011723 0.31870188\n",
            " 0.56344429 0.3692295  0.38634201 0.07014598 0.10824824 0.68399265\n",
            " 0.83676515 0.95299747 0.2599854  0.59916602 0.33477457 0.22885683\n",
            " 0.24097021 0.4207621  0.10569403 0.37186879 0.1803588  0.4002625\n",
            " 0.1199802  0.34353378 0.36807759 0.37496905 0.26294085 0.31013539\n",
            " 0.32502597 0.25253983 0.78446063 0.62645194 0.50259215 0.32350654\n",
            " 0.93984665 0.8193071  0.49253659 0.61464692 0.23967523 0.36627094\n",
            " 0.98972372 0.63946484 0.34572558 0.13191605 0.55509218 0.2034904\n",
            " 0.33112363 0.2229609  0.24843272 0.05375036 0.81685629 0.34223837\n",
            " 0.5230108  0.11742338 0.4829919  0.58400995 0.05755416 0.67982589\n",
            " 0.37351833 0.65130458 0.20605154 0.42113707 0.49229904 0.3485112\n",
            " 0.50073999 0.70857835 0.72992934 0.46090552 0.3019098  0.17599502\n",
            " 0.48253608 0.31866366 0.10997554 0.23804055 0.08378458 0.39589378\n",
            " 0.47360323 0.58244108 0.73531136 0.21945024 0.28319211 0.32151445\n",
            " 0.45253301 0.19940762 0.50756136 0.32312649 0.33860908 0.59319572\n",
            " 0.23985861 0.39149562 0.35270024 0.81588868 0.53035834 0.75443356\n",
            " 0.53112079 0.38121925 0.40118824 0.49769459 0.08044133 0.43622741\n",
            " 0.30236338 0.14912929 0.47760782 0.54344737 0.39215856 0.49110878\n",
            " 0.30608101 0.45012622 0.36508568 0.03674285 0.350744   0.17703971\n",
            " 0.35897252 0.1700476  0.25304366 0.59321985 0.41205923 0.35572252\n",
            " 0.33287737 0.83416662 0.37093174 0.34301756 0.99621406 0.47346078\n",
            " 0.21394741 0.29785872 0.2282114  0.41300358 0.29327202 0.51018773\n",
            " 0.21189997 0.31799286 0.39927564 0.68285489 0.24861055 0.33577435\n",
            " 0.48561498 0.31519664 0.97745499 0.24284373 0.60846488 0.94061369\n",
            " 0.2829965  0.45736001 0.34542726 0.76914721 0.34022503 0.31558935\n",
            " 0.33854764 0.56825054 0.3796045  0.55373101 0.26840517 0.65775482\n",
            " 0.40268335 0.25863829 0.2326199  0.66548486 0.15061887 0.2277293\n",
            " 0.39286693 0.22945353 0.36623492 0.2128471  0.58712612 0.20308024\n",
            " 0.46363508 0.65365364 0.44386136 0.54789617 0.34702301 0.18626436\n",
            " 0.37534617 0.48979081 0.11896194 0.07916183 0.49901098 0.34586486\n",
            " 0.31079919 0.50314675 0.46876403 0.48517924 0.45238853 0.34325344\n",
            " 0.34429617 0.53161204 0.07694858 0.26280678 0.23572237 0.35390702\n",
            " 0.79773188 0.34595414 0.18403386 0.10655926 0.34849062 0.6193916\n",
            " 0.29752739 0.41199655 0.36841484 0.17882578 0.7375039  0.29271218\n",
            " 0.22412725 0.31486728 0.25982717 0.37050141 0.26604708 0.18770908\n",
            " 0.61856693 0.82989507 0.25923269 0.79621632 0.41899835 0.5538562\n",
            " 0.73836532 0.68288696 0.49670053 0.22267627 0.25760746 0.34060877\n",
            " 0.35675736 0.22028914 0.70379218 0.33545011 0.46782674 0.12683845\n",
            " 0.34183299 0.61275827 0.25864017 0.24719928 0.12663807 0.33109249\n",
            " 0.44305268 0.37132696 0.47890337 0.36669509 0.19772898 0.33214288\n",
            " 0.31472619 0.824414   0.23678366 0.29437615 0.25263422 0.45501362\n",
            " 0.37452041 0.50652022 0.740349   0.60374619 0.32315207 0.14232305\n",
            " 0.58656602 0.49956388 0.30702882 0.43550527 0.2961946  0.80938236\n",
            " 0.35954989 0.38029801 0.47208379 0.72699602 0.79536955 0.35609988\n",
            " 0.11816769 0.31453219 0.67957833 0.5793775  0.68671914 0.42357612\n",
            " 0.12568871 0.32233425 0.51079011 0.32405511 0.36284405 0.30316324\n",
            " 0.39888123 0.77178408 0.43787443 0.9183074  0.68505951 0.7245485\n",
            " 0.4761441  0.27934131 0.39533283 0.92106213 0.46537047 0.34673831\n",
            " 0.59645184 0.22986189 0.23481686 0.768221   0.71210714 0.25437046\n",
            " 0.33448344 0.33055495 0.65613144 0.71314995 0.5108312  0.2503274\n",
            " 0.1282719  0.17459221 0.12568983 0.79474085 0.36081797 0.52543595\n",
            " 0.34535753 0.48535111 0.31713272 0.31751749 0.59575963 0.73292516\n",
            " 0.66358178 0.12755073 0.36452495 0.72309889 0.64860791 0.88944972\n",
            " 0.22659075 0.29511573 0.439953   0.26166461 0.8298061  0.4210031\n",
            " 0.25094892 0.43635563 0.30646945 0.76974579 0.45161814 0.26325561\n",
            " 0.11876672 0.60226612 0.35586689 0.03932881 0.7244378  0.24634153\n",
            " 0.43328712 0.29877249 0.55180645 0.63768114 0.71181048 0.49829498\n",
            " 0.38157563 0.28661233 0.64843767 0.4199999  0.76372862 0.50034373\n",
            " 0.32939675 0.5117673  0.55049344 0.07575574 0.48077731 0.17645007\n",
            " 0.50614081 0.71676408 0.22646595 0.1794655  0.46780902 0.38202184\n",
            " 0.69834739 0.36358412 0.40708341 0.35527222 0.28561278 0.36913268\n",
            " 0.41141526 0.48931526 0.337451   0.37050561 0.27365271 0.37528724\n",
            " 0.37627789 0.5170715  0.13232874 0.33744579 0.44534293 0.77402993\n",
            " 0.33022178 0.37947568 0.46081345 0.70831598 0.45973553 0.4160919\n",
            " 0.55785126 0.81691915 0.34414185 0.27643394 0.18072542 0.24722017\n",
            " 0.92010782 0.72177294 0.88763304 0.31363796 0.75995319 0.34192931\n",
            " 0.43999036 0.32974846 0.48556544 0.34769933 0.23939482 0.21395409\n",
            " 0.76622892 0.34885681 0.61441943 0.19910675 0.51457637 0.34385308\n",
            " 0.33076584 0.47065835 0.07959502 0.3515534  0.23300957 0.41150076\n",
            " 0.35737667 0.35665957 0.47830699 0.17918654 0.56800296 0.19964779\n",
            " 0.88088639 0.4362959  0.12818162 0.68670169 0.4331592  0.34727322\n",
            " 0.36283117 0.7957539  0.30785778 0.30603407 0.31199109 0.33461318\n",
            " 0.39939824 0.56449552 0.33062495 0.44025066 0.43149624 0.6529963\n",
            " 0.40594558 0.36795636 0.47344539 0.47488162 0.23876591 0.24130323\n",
            " 0.91271437 0.55118487 0.58071379 0.42870095 0.38868982 0.1815975\n",
            " 0.51705079 0.78555768 0.3646336  0.47863654 0.99153208 0.42580752\n",
            " 0.26336866 0.75094406 0.00220393 0.30602718 0.82599437 0.38252351\n",
            " 0.74377796 0.60421776 0.55508644 0.42562135 0.7304535  0.22859605\n",
            " 0.62881661 0.09424086 0.56978613 0.47787928 0.81729433 0.31839519\n",
            " 0.87513101 0.06021906 0.51685591 0.11007567 0.83841601 0.30737052\n",
            " 0.38231849 0.36196052 0.38049561 0.58819801 0.50943785 0.78717261\n",
            " 0.30766643 0.32541046 0.18821494 0.3205389  0.29980934 0.6843683\n",
            " 0.30124326]\n",
            "Mean Squared Error:  0.00030140794937292116\n",
            "R^2:  0.9929152964933361\n"
          ]
        }
      ]
    },
    {
      "cell_type": "markdown",
      "source": [
        "Weekly: The model for the weekly data yielded an MSE of 0.0118 and an R^2 value of 0.7463.\n",
        "\n",
        "Daily: The model for the daily data yielded an MSE of 0.0027 and an R^2 value of 0.9458.\n",
        "\n",
        "Hourly: The model for the hourly data yielded an MSE of 0.0003 and an R^2 value of 0.9923."
      ],
      "metadata": {
        "id": "VLAZtSQWyx8W"
      }
    },
    {
      "cell_type": "markdown",
      "source": [
        ".\n",
        "\n",
        ".\n",
        "\n",
        "."
      ],
      "metadata": {
        "id": "zpxV8gq6s8Zn"
      }
    },
    {
      "cell_type": "markdown",
      "source": [
        "# Final Model Implementation"
      ],
      "metadata": {
        "id": "BYDTnJwms-Pa"
      }
    },
    {
      "cell_type": "code",
      "source": [
        "spy_daily_test"
      ],
      "metadata": {
        "colab": {
          "base_uri": "https://localhost:8080/",
          "height": 520
        },
        "id": "l-qANuobl_Df",
        "outputId": "c5923c93-3b4b-42dd-ce14-fbfb893619b2"
      },
      "execution_count": null,
      "outputs": [
        {
          "output_type": "execute_result",
          "data": {
            "text/plain": [
              "         Date        Open        High         Low   Adj Close    Volume\n",
              "0  2023-04-10  406.609985  409.690002  405.970001  409.609985  63681000\n",
              "1  2023-04-11  410.260010  411.179993  408.920013  409.720001  59297900\n",
              "2  2023-04-12  411.869995  412.170013  407.440002  408.049988  86420400\n",
              "3  2023-04-13  409.179993  413.839996  407.989990  413.470001  85814800\n",
              "4  2023-04-14  412.809998  415.089996  410.059998  412.459991  78129500\n",
              "5  2023-04-17  412.369995  413.959991  411.089996  413.940002  66436400\n",
              "6  2023-04-18  415.579987  415.720001  412.779999  414.209991  63560000\n",
              "7  2023-04-19  412.220001  415.079987  412.160004  414.140015  55227300\n",
              "8  2023-04-20  411.209991  413.700012  410.269989  411.880005  75840400\n",
              "9  2023-04-21  412.190002  412.679993  410.170013  412.200012  73436100\n",
              "10 2023-04-24  411.989990  413.070007  410.600006  412.630005  64332100\n",
              "11 2023-04-25  410.579987  411.160004  406.019989  406.079987  97766700\n",
              "12 2023-04-26  406.720001  407.839996  403.779999  404.359985  80447000\n",
              "13 2023-04-27  407.000000  412.690002  406.739990  412.410004  92968400\n",
              "14 2023-04-28  411.489990  415.940002  411.429993  415.929993  89335600"
            ],
            "text/html": [
              "\n",
              "  <div id=\"df-611867d3-853b-4a3a-bcd0-07b56c2e80e4\">\n",
              "    <div class=\"colab-df-container\">\n",
              "      <div>\n",
              "<style scoped>\n",
              "    .dataframe tbody tr th:only-of-type {\n",
              "        vertical-align: middle;\n",
              "    }\n",
              "\n",
              "    .dataframe tbody tr th {\n",
              "        vertical-align: top;\n",
              "    }\n",
              "\n",
              "    .dataframe thead th {\n",
              "        text-align: right;\n",
              "    }\n",
              "</style>\n",
              "<table border=\"1\" class=\"dataframe\">\n",
              "  <thead>\n",
              "    <tr style=\"text-align: right;\">\n",
              "      <th></th>\n",
              "      <th>Date</th>\n",
              "      <th>Open</th>\n",
              "      <th>High</th>\n",
              "      <th>Low</th>\n",
              "      <th>Adj Close</th>\n",
              "      <th>Volume</th>\n",
              "    </tr>\n",
              "  </thead>\n",
              "  <tbody>\n",
              "    <tr>\n",
              "      <th>0</th>\n",
              "      <td>2023-04-10</td>\n",
              "      <td>406.609985</td>\n",
              "      <td>409.690002</td>\n",
              "      <td>405.970001</td>\n",
              "      <td>409.609985</td>\n",
              "      <td>63681000</td>\n",
              "    </tr>\n",
              "    <tr>\n",
              "      <th>1</th>\n",
              "      <td>2023-04-11</td>\n",
              "      <td>410.260010</td>\n",
              "      <td>411.179993</td>\n",
              "      <td>408.920013</td>\n",
              "      <td>409.720001</td>\n",
              "      <td>59297900</td>\n",
              "    </tr>\n",
              "    <tr>\n",
              "      <th>2</th>\n",
              "      <td>2023-04-12</td>\n",
              "      <td>411.869995</td>\n",
              "      <td>412.170013</td>\n",
              "      <td>407.440002</td>\n",
              "      <td>408.049988</td>\n",
              "      <td>86420400</td>\n",
              "    </tr>\n",
              "    <tr>\n",
              "      <th>3</th>\n",
              "      <td>2023-04-13</td>\n",
              "      <td>409.179993</td>\n",
              "      <td>413.839996</td>\n",
              "      <td>407.989990</td>\n",
              "      <td>413.470001</td>\n",
              "      <td>85814800</td>\n",
              "    </tr>\n",
              "    <tr>\n",
              "      <th>4</th>\n",
              "      <td>2023-04-14</td>\n",
              "      <td>412.809998</td>\n",
              "      <td>415.089996</td>\n",
              "      <td>410.059998</td>\n",
              "      <td>412.459991</td>\n",
              "      <td>78129500</td>\n",
              "    </tr>\n",
              "    <tr>\n",
              "      <th>5</th>\n",
              "      <td>2023-04-17</td>\n",
              "      <td>412.369995</td>\n",
              "      <td>413.959991</td>\n",
              "      <td>411.089996</td>\n",
              "      <td>413.940002</td>\n",
              "      <td>66436400</td>\n",
              "    </tr>\n",
              "    <tr>\n",
              "      <th>6</th>\n",
              "      <td>2023-04-18</td>\n",
              "      <td>415.579987</td>\n",
              "      <td>415.720001</td>\n",
              "      <td>412.779999</td>\n",
              "      <td>414.209991</td>\n",
              "      <td>63560000</td>\n",
              "    </tr>\n",
              "    <tr>\n",
              "      <th>7</th>\n",
              "      <td>2023-04-19</td>\n",
              "      <td>412.220001</td>\n",
              "      <td>415.079987</td>\n",
              "      <td>412.160004</td>\n",
              "      <td>414.140015</td>\n",
              "      <td>55227300</td>\n",
              "    </tr>\n",
              "    <tr>\n",
              "      <th>8</th>\n",
              "      <td>2023-04-20</td>\n",
              "      <td>411.209991</td>\n",
              "      <td>413.700012</td>\n",
              "      <td>410.269989</td>\n",
              "      <td>411.880005</td>\n",
              "      <td>75840400</td>\n",
              "    </tr>\n",
              "    <tr>\n",
              "      <th>9</th>\n",
              "      <td>2023-04-21</td>\n",
              "      <td>412.190002</td>\n",
              "      <td>412.679993</td>\n",
              "      <td>410.170013</td>\n",
              "      <td>412.200012</td>\n",
              "      <td>73436100</td>\n",
              "    </tr>\n",
              "    <tr>\n",
              "      <th>10</th>\n",
              "      <td>2023-04-24</td>\n",
              "      <td>411.989990</td>\n",
              "      <td>413.070007</td>\n",
              "      <td>410.600006</td>\n",
              "      <td>412.630005</td>\n",
              "      <td>64332100</td>\n",
              "    </tr>\n",
              "    <tr>\n",
              "      <th>11</th>\n",
              "      <td>2023-04-25</td>\n",
              "      <td>410.579987</td>\n",
              "      <td>411.160004</td>\n",
              "      <td>406.019989</td>\n",
              "      <td>406.079987</td>\n",
              "      <td>97766700</td>\n",
              "    </tr>\n",
              "    <tr>\n",
              "      <th>12</th>\n",
              "      <td>2023-04-26</td>\n",
              "      <td>406.720001</td>\n",
              "      <td>407.839996</td>\n",
              "      <td>403.779999</td>\n",
              "      <td>404.359985</td>\n",
              "      <td>80447000</td>\n",
              "    </tr>\n",
              "    <tr>\n",
              "      <th>13</th>\n",
              "      <td>2023-04-27</td>\n",
              "      <td>407.000000</td>\n",
              "      <td>412.690002</td>\n",
              "      <td>406.739990</td>\n",
              "      <td>412.410004</td>\n",
              "      <td>92968400</td>\n",
              "    </tr>\n",
              "    <tr>\n",
              "      <th>14</th>\n",
              "      <td>2023-04-28</td>\n",
              "      <td>411.489990</td>\n",
              "      <td>415.940002</td>\n",
              "      <td>411.429993</td>\n",
              "      <td>415.929993</td>\n",
              "      <td>89335600</td>\n",
              "    </tr>\n",
              "  </tbody>\n",
              "</table>\n",
              "</div>\n",
              "      <button class=\"colab-df-convert\" onclick=\"convertToInteractive('df-611867d3-853b-4a3a-bcd0-07b56c2e80e4')\"\n",
              "              title=\"Convert this dataframe to an interactive table.\"\n",
              "              style=\"display:none;\">\n",
              "        \n",
              "  <svg xmlns=\"http://www.w3.org/2000/svg\" height=\"24px\"viewBox=\"0 0 24 24\"\n",
              "       width=\"24px\">\n",
              "    <path d=\"M0 0h24v24H0V0z\" fill=\"none\"/>\n",
              "    <path d=\"M18.56 5.44l.94 2.06.94-2.06 2.06-.94-2.06-.94-.94-2.06-.94 2.06-2.06.94zm-11 1L8.5 8.5l.94-2.06 2.06-.94-2.06-.94L8.5 2.5l-.94 2.06-2.06.94zm10 10l.94 2.06.94-2.06 2.06-.94-2.06-.94-.94-2.06-.94 2.06-2.06.94z\"/><path d=\"M17.41 7.96l-1.37-1.37c-.4-.4-.92-.59-1.43-.59-.52 0-1.04.2-1.43.59L10.3 9.45l-7.72 7.72c-.78.78-.78 2.05 0 2.83L4 21.41c.39.39.9.59 1.41.59.51 0 1.02-.2 1.41-.59l7.78-7.78 2.81-2.81c.8-.78.8-2.07 0-2.86zM5.41 20L4 18.59l7.72-7.72 1.47 1.35L5.41 20z\"/>\n",
              "  </svg>\n",
              "      </button>\n",
              "      \n",
              "  <style>\n",
              "    .colab-df-container {\n",
              "      display:flex;\n",
              "      flex-wrap:wrap;\n",
              "      gap: 12px;\n",
              "    }\n",
              "\n",
              "    .colab-df-convert {\n",
              "      background-color: #E8F0FE;\n",
              "      border: none;\n",
              "      border-radius: 50%;\n",
              "      cursor: pointer;\n",
              "      display: none;\n",
              "      fill: #1967D2;\n",
              "      height: 32px;\n",
              "      padding: 0 0 0 0;\n",
              "      width: 32px;\n",
              "    }\n",
              "\n",
              "    .colab-df-convert:hover {\n",
              "      background-color: #E2EBFA;\n",
              "      box-shadow: 0px 1px 2px rgba(60, 64, 67, 0.3), 0px 1px 3px 1px rgba(60, 64, 67, 0.15);\n",
              "      fill: #174EA6;\n",
              "    }\n",
              "\n",
              "    [theme=dark] .colab-df-convert {\n",
              "      background-color: #3B4455;\n",
              "      fill: #D2E3FC;\n",
              "    }\n",
              "\n",
              "    [theme=dark] .colab-df-convert:hover {\n",
              "      background-color: #434B5C;\n",
              "      box-shadow: 0px 1px 3px 1px rgba(0, 0, 0, 0.15);\n",
              "      filter: drop-shadow(0px 1px 2px rgba(0, 0, 0, 0.3));\n",
              "      fill: #FFFFFF;\n",
              "    }\n",
              "  </style>\n",
              "\n",
              "      <script>\n",
              "        const buttonEl =\n",
              "          document.querySelector('#df-611867d3-853b-4a3a-bcd0-07b56c2e80e4 button.colab-df-convert');\n",
              "        buttonEl.style.display =\n",
              "          google.colab.kernel.accessAllowed ? 'block' : 'none';\n",
              "\n",
              "        async function convertToInteractive(key) {\n",
              "          const element = document.querySelector('#df-611867d3-853b-4a3a-bcd0-07b56c2e80e4');\n",
              "          const dataTable =\n",
              "            await google.colab.kernel.invokeFunction('convertToInteractive',\n",
              "                                                     [key], {});\n",
              "          if (!dataTable) return;\n",
              "\n",
              "          const docLinkHtml = 'Like what you see? Visit the ' +\n",
              "            '<a target=\"_blank\" href=https://colab.research.google.com/notebooks/data_table.ipynb>data table notebook</a>'\n",
              "            + ' to learn more about interactive tables.';\n",
              "          element.innerHTML = '';\n",
              "          dataTable['output_type'] = 'display_data';\n",
              "          await google.colab.output.renderOutput(dataTable, element);\n",
              "          const docLink = document.createElement('div');\n",
              "          docLink.innerHTML = docLinkHtml;\n",
              "          element.appendChild(docLink);\n",
              "        }\n",
              "      </script>\n",
              "    </div>\n",
              "  </div>\n",
              "  "
            ]
          },
          "metadata": {},
          "execution_count": 82
        }
      ]
    },
    {
      "cell_type": "code",
      "source": [
        "#implementing series_to_supervised to daily data\n",
        "\n",
        "\n",
        "daily_select = spy_daily_test[['Adj Close']]\n",
        "\n",
        "values_daily_test = daily_select.values\n",
        "\n",
        "\n",
        "spy_daily_sts_predict = series_to_supervised(values_daily_test)\n",
        "print(\"Daily data as a supervised learning dataset:\")\n",
        "print(spy_daily_sts_predict)\n",
        "print(\" \")"
      ],
      "metadata": {
        "colab": {
          "base_uri": "https://localhost:8080/"
        },
        "id": "EGaNBs8rjSz6",
        "outputId": "b9b3e179-87e6-4325-9e6c-fd3039ee7de4"
      },
      "execution_count": null,
      "outputs": [
        {
          "output_type": "stream",
          "name": "stdout",
          "text": [
            "Daily data as a supervised learning dataset:\n",
            "    var 1(t-10)  var 1(t-9)  var 1(t-8)  var 1(t-7)  var 1(t-6)  var 1(t-5)  \\\n",
            "10   409.609985  409.720001  408.049988  413.470001  412.459991  413.940002   \n",
            "11   409.720001  408.049988  413.470001  412.459991  413.940002  414.209991   \n",
            "12   408.049988  413.470001  412.459991  413.940002  414.209991  414.140015   \n",
            "13   413.470001  412.459991  413.940002  414.209991  414.140015  411.880005   \n",
            "14   412.459991  413.940002  414.209991  414.140015  411.880005  412.200012   \n",
            "\n",
            "    var 1(t-4)  var 1(t-3)  var 1(t-2)  var 1(t-1)     var1(t)  \n",
            "10  414.209991  414.140015  411.880005  412.200012  412.630005  \n",
            "11  414.140015  411.880005  412.200012  412.630005  406.079987  \n",
            "12  411.880005  412.200012  412.630005  406.079987  404.359985  \n",
            "13  412.200012  412.630005  406.079987  404.359985  412.410004  \n",
            "14  412.630005  406.079987  404.359985  412.410004  415.929993  \n",
            " \n"
          ]
        }
      ]
    },
    {
      "cell_type": "code",
      "source": [
        "mm_scaler_daily_test = StandardScaler().fit_transform(spy_daily_sts_predict)\n"
      ],
      "metadata": {
        "id": "n-eyuSUQhxj-"
      },
      "execution_count": null,
      "outputs": []
    },
    {
      "cell_type": "code",
      "source": [
        "# implement the data on the final model to current 'test' data\n",
        "# Final Model: Normal Euqation Method - Linear Regression\n",
        "# Dataset: Daily\n",
        "\n",
        "\n",
        "# Add bias vector of ones as the first column\n",
        "X_daily_predict = np.column_stack((np.ones(mm_scaler_daily_test.shape[0]), mm_scaler_daily_test))\n",
        "\n",
        "\n",
        "#calculation for Normal Equation Method\n",
        "theta_daily = np.dot(np.linalg.inv(np.dot(X_daily_predict.T,X_daily_predict)),np.dot(X_daily_predict.T,X_daily_predict))\n",
        "\n",
        "# Daily\n",
        "print(\"Hourly predictions and performance\")\n",
        "#prediction vector for Normal Equation Method\n",
        "Y_pred_daily = X_daily_predict.dot(theta_daily)\n",
        "print('Prediction vector: ', Y_pred_daily)\n",
        "\n",
        "# #MSE calculation\n",
        "# mse_hourly = mean_squared_error(Y_test_hourly, Y_pred_hourly)\n",
        "# print(\"Mean Squared Error: \", mse_hourly)\n",
        "\n",
        "# #R^2 calculation\n",
        "# r2_hourly = r2_score(Y_test_hourly, Y_pred_hourly)\n",
        "# print(\"R^2: \", r2_hourly)"
      ],
      "metadata": {
        "id": "2EjIyzJ6tDND",
        "colab": {
          "base_uri": "https://localhost:8080/"
        },
        "outputId": "4b62fba3-4fa8-4909-9c88-c3bcd05a0da0"
      },
      "execution_count": null,
      "outputs": [
        {
          "output_type": "stream",
          "name": "stdout",
          "text": [
            "Hourly predictions and performance\n",
            "Prediction vector:  [[ 1.          0.89060728  0.01511773 -2.35436901 -2.39554831 -1.00814643\n",
            "  -0.18311605  0.71516311  0.54062315 -0.11359241 -1.09720502  0.90506976]\n",
            " [ 1.          1.8275107  -2.16795401 -0.56477548 -3.74161769  0.17759594\n",
            "  -0.66018658  1.21811146  0.66254216 -0.86788214 -0.50009391  1.0413191 ]\n",
            " [ 1.         -0.95277436  2.9334557   2.1649999   4.17184188  2.06561208\n",
            "   1.63968441 -1.13362021  0.02937808 -0.40210528  0.2143093  -1.01966014]\n",
            " [ 1.          0.66171183 -0.20805408  1.50039041  1.2912968   0.59747313\n",
            "  -2.051774    0.61713967 -0.10159776  0.54031594 -0.44392189  0.26691496]\n",
            " [ 1.         -2.42705545 -0.57256533 -0.74624582  0.67402732 -1.83253473\n",
            "   1.25539222 -1.41679403 -1.13094563  0.84326389  1.82691151 -1.19364369]]\n"
          ]
        }
      ]
    }
  ]
}